{
 "cells": [
  {
   "cell_type": "markdown",
   "id": "b8447425-6414-455f-88de-e3a125a72bef",
   "metadata": {},
   "source": [
    "# Code Assistant\n",
    "\n",
    "The goal of the demo is to build a code assistant using Langgraph that is able to create a function based on user prompt and recursively improve it until it can be run."
   ]
  },
  {
   "cell_type": "code",
   "execution_count": 1,
   "id": "806dbe31-b5a2-40a8-84b0-bbf1875639d9",
   "metadata": {},
   "outputs": [
    {
     "name": "stdout",
     "output_type": "stream",
     "text": [
      "Note: you may need to restart the kernel to use updated packages.\n"
     ]
    },
    {
     "name": "stderr",
     "output_type": "stream",
     "text": [
      "\n",
      "[notice] A new release of pip is available: 24.3.1 -> 25.0.1\n",
      "[notice] To update, run: python.exe -m pip install --upgrade pip\n"
     ]
    }
   ],
   "source": [
    "%pip install --quiet -U langgraph langchain_openai langchain_community langchain_core langchain_ollama ollama langchain_anthropic"
   ]
  },
  {
   "cell_type": "markdown",
   "id": "593d8f45-7373-4edc-9493-1056a17b281e",
   "metadata": {},
   "source": [
    "## Import dependencies"
   ]
  },
  {
   "cell_type": "code",
   "execution_count": 2,
   "id": "a6dff180-9242-4449-8640-fb2b72a6cf27",
   "metadata": {},
   "outputs": [],
   "source": [
    "import os, getpass\n",
    "\n",
    "from pydantic import BaseModel, Field\n",
    "from pydantic_core import ValidationError\n",
    "from typing import List, Annotated\n",
    "from typing_extensions import TypedDict\n",
    "from operator import add\n",
    "\n",
    "from langchain_openai import ChatOpenAI\n",
    "from langchain_anthropic import ChatAnthropic\n",
    "from langchain_ollama import ChatOllama\n",
    "from langchain_core.messages import AIMessage, HumanMessage, SystemMessage\n",
    "\n",
    "from IPython.display import Image, display\n",
    "from langgraph.graph import START, END, StateGraph\n",
    "from langgraph.checkpoint.memory import MemorySaver"
   ]
  },
  {
   "cell_type": "markdown",
   "id": "6a3614df-ff8e-4a30-a0db-e6b1104257b9",
   "metadata": {},
   "source": [
    "## Setup API key and LLM models"
   ]
  },
  {
   "cell_type": "code",
   "execution_count": 4,
   "id": "a748e8d3-68cc-437d-bb9b-e613c097dd56",
   "metadata": {},
   "outputs": [],
   "source": [
    "def _set_gpt_env(var: str):\n",
    "    if not os.environ.get(var):\n",
    "        os.environ[var] = getpass.getpass(f\"{var}: \")\n",
    "\n",
    "_set_gpt_env(\"OPENAI_API_KEY\")"
   ]
  },
  {
   "cell_type": "code",
   "execution_count": 6,
   "id": "304dae31-c3e2-4428-9eeb-65bdf9793b31",
   "metadata": {},
   "outputs": [],
   "source": [
    "def _set_anthropic_env(var: str):\n",
    "    if not os.environ.get(var):\n",
    "        os.environ[var] = getpass.getpass(f\"{var}: \")\n",
    "\n",
    "_set_anthropic_env(\"ANTHROPIC_API_KEY\")"
   ]
  },
  {
   "cell_type": "code",
   "execution_count": 7,
   "id": "a20711a8-d06d-414e-b1f3-a322ab129132",
   "metadata": {},
   "outputs": [],
   "source": [
    "llm_gpt4o = ChatOpenAI(model=\"gpt-4o\", temperature=0)"
   ]
  },
  {
   "cell_type": "code",
   "execution_count": 8,
   "id": "35b86abf-c3d7-4943-a60c-48c6582d41f6",
   "metadata": {},
   "outputs": [],
   "source": [
    "llm_claude3_7_sonnet = ChatAnthropic(model=\"claude-3-7-sonnet-20250219\", temperature=0)"
   ]
  },
  {
   "cell_type": "code",
   "execution_count": 5,
   "id": "10d66d5f-8dc8-43a9-84b7-2587271a618a",
   "metadata": {},
   "outputs": [],
   "source": [
    "#llm_codellama7b = ChatOllama(model=\"codellama:7b\", temperature=0, format=\"json\")"
   ]
  },
  {
   "cell_type": "markdown",
   "id": "23afeafe-246b-4061-8430-7524352a78c4",
   "metadata": {},
   "source": [
    "## Set global constants"
   ]
  },
  {
   "cell_type": "code",
   "execution_count": 9,
   "id": "e8a3665b-41d1-4b0b-969a-4d7b15e4054c",
   "metadata": {},
   "outputs": [],
   "source": [
    "MAX_ITERATIONS = 5"
   ]
  },
  {
   "cell_type": "markdown",
   "id": "e5dfa6a6-32ac-4ff7-a26a-825226e9a2ef",
   "metadata": {},
   "source": [
    "## Create the code generator subgraph"
   ]
  },
  {
   "cell_type": "markdown",
   "id": "95683844-1bfe-4f12-bc02-2c2045611ad1",
   "metadata": {},
   "source": [
    "### Code generation"
   ]
  },
  {
   "cell_type": "code",
   "execution_count": 62,
   "id": "1fcca743-6ea2-4476-a63e-34ce396d9a6d",
   "metadata": {},
   "outputs": [],
   "source": [
    "# Code data model\n",
    "class Code(BaseModel):\n",
    "    prefix: str = Field(description=\"Description of the code generating task.\")\n",
    "    imports: str = Field(description=\"Import statements.\")\n",
    "    code: str = Field(description=\"Code block.\")\n",
    "\n",
    "# Initial system and code generation prompt\n",
    "\n",
    "class_name = \"Game\"\n",
    "class_attributes = \"\"\"window_size: tuple[int, int] = (600, 600)  # The size of the game window\n",
    "    frame_rate: int = 15  # The frame rate for the game\"\"\"\n",
    "function_task = \"\"\"Exits the game application.\"\"\"\n",
    "function_name = \"exit_game\"\n",
    "function_params = \"self\"\n",
    "function_result = \"None\"\n",
    "function_instructions = \"\"\"# Pseudocode\n",
    "        # Quit pygame\n",
    "        # Exit the application\"\"\"\n",
    "\n",
    "with open('srs.txt', 'r') as f:\n",
    "    srs = f.read()\n",
    "\n",
    "with open('dds.txt', 'r') as f:\n",
    "    dds = f.read()\n",
    "\n",
    "system_prompt = \"\"\"You are an experienced Python software developer. You help with function implementation. Always create your code in Python.\n",
    "The function is part of a software. The software includes classes with attributes and functions. Please inspect the attached system requirements specification\n",
    "(SRS) and the design document specification (DDS). The SRS details information about how the software should work and the DDS details the classes,\n",
    "attributes, and functions of the software. Please create the function implementation based on the SRS and DDS such a way that it fits into the\n",
    "structure of the software. Take into consideration the description of the function, the input parameters and the return value and their types,\n",
    "and the step-by-step description. Where necessary, import dependencies and use them in the implementation. Be careful, if you use an object of another class,\n",
    "use the attributes and methods of this object properly. Your solution will be assessed by another LLM.\n",
    "Strive to create function implementations for which unit tests can be easily created.\n",
    "SRS:\n",
    "{}\n",
    "DDS:\n",
    "{}\"\"\".format(srs, dds)\n",
    "\n",
    "# If the DDS lacks specific requirement, add the requirement to the prompt as additional requirement. \n",
    "\n",
    "code_prompt = \"\"\"Please help implementing a function in Python based on the prompt provided to you.\n",
    "The class of the function: {class_name}\n",
    "The attributes of the class: {attributes}\n",
    "Description of the function: {task}\n",
    "Name of the function {function}\n",
    "Input parameters: {params}\n",
    "Return parameter: {result}\n",
    "Step-by-step description of the function: {instructions}\n",
    "The step-by-step description helps understand the logical flow of the function, but the result must be a function implementation in Python.\n",
    "Ensure any code you provide can be executed with all imports. Try to write an implementation that meets the following criteria:\n",
    "- The implementation follows the clean code principle and is easy to maintain and expand.\n",
    "- The implementation should be secure and provide good performance.\n",
    "- Include function documentation in a Pythonic way.\n",
    "Structure your answer as following:\n",
    "prefix: a description of the function\n",
    "imports: the list of imports as a string\n",
    "code: the function implementation as a string\n",
    "Additional requirement:\n",
    "-\"\"\".format(class_name=class_name, attributes=class_attributes, task=function_task, function=function_name, params=function_params, result=function_result, instructions=function_instructions)"
   ]
  },
  {
   "cell_type": "code",
   "execution_count": 12,
   "id": "361923ff-35e3-466b-a30d-4f4bcafc5209",
   "metadata": {},
   "outputs": [],
   "source": [
    "# Create GPT agent\n",
    "llm_gpt4o = llm_gpt4o.with_structured_output(Code)"
   ]
  },
  {
   "cell_type": "code",
   "execution_count": 13,
   "id": "3f9dbad4-e9ff-434a-90c9-e62baaa63efc",
   "metadata": {},
   "outputs": [],
   "source": [
    "# Create Claude agent\n",
    "llm_claude3_7_sonnet = llm_claude3_7_sonnet.with_structured_output(Code)"
   ]
  },
  {
   "cell_type": "code",
   "execution_count": 14,
   "id": "310de612-421a-4a8b-a868-a6196347513c",
   "metadata": {},
   "outputs": [],
   "source": [
    "def log_code_generation(filename: str, llm: str, iterations: int, error: int):\n",
    "    with open(f'logs/generation/{filename}.txt', 'a') as f:\n",
    "        f.write(f'{llm} {iterations} {error}\\n')"
   ]
  },
  {
   "cell_type": "code",
   "execution_count": 15,
   "id": "4641281d-9c8d-47f0-871e-783668c4ec52",
   "metadata": {},
   "outputs": [],
   "source": [
    "def log_candidate_selection(filename: str, llm: str):\n",
    "    with open(f'logs/candidate/{filename}.txt', 'a') as f:\n",
    "        f.write(f'{llm}')"
   ]
  },
  {
   "cell_type": "markdown",
   "id": "f8a49902-23fb-416d-9384-39d4b707596c",
   "metadata": {},
   "source": [
    "#### Test run of coding assistant"
   ]
  },
  {
   "cell_type": "code",
   "execution_count": 12,
   "id": "0f9c8c2c-6736-482b-9410-fd7c0f557ba0",
   "metadata": {},
   "outputs": [
    {
     "data": {
      "text/plain": [
       "Code(prefix=\"This function implements the movement logic for the Snake class in the Snake game. It updates the snake's position based on its current direction, handles growth when the snake eats an apple, and ensures the snake always has at least a head. The function adds a new position for the head in the direction of movement and either removes the tail (if not growing) or keeps it (if growing).\", imports='from typing import List, Tuple', code='def move(self) -> None:\\n    \"\"\"\\n    Moves the snake in the current direction, growing if necessary.\\n    \\n    The snake moves by adding a new head position in the direction of movement\\n    and removing the tail (unless the snake is growing). This ensures the snake\\n    always has at least one body part (the head).\\n    \\n    Returns:\\n        None\\n    \"\"\"\\n    # Calculate new head position by adding direction to current head position\\n    current_head = self.body[0]\\n    new_head = (current_head[0] + self.direction[0], \\n                current_head[1] + self.direction[1])\\n    \\n    # Insert the new head at the beginning of the body list\\n    self.body.insert(0, new_head)\\n    \\n    # If the snake is not growing, remove the tail\\n    # Otherwise, keep the tail and reset the grow flag\\n    if not self.grow:\\n        self.body.pop()\\n    else:\\n        self.grow = False')"
      ]
     },
     "execution_count": 12,
     "metadata": {},
     "output_type": "execute_result"
    }
   ],
   "source": [
    "name = \"circle_area\"\n",
    "task = \"Help me implement a function that calculates the area of a circle.\"\n",
    "params = \"r: float\"\n",
    "result =  \"area of circle as a float\"\n",
    "\n",
    "circle_area_prompt = code_prompt.format(name=name, task=task, params=params, result=result)\n",
    "\n",
    "circle_area_function = llm_claude3_7_sonnet.invoke([SystemMessage(content=system_prompt)] + [HumanMessage(content=code_prompt)])\n",
    "circle_area_function"
   ]
  },
  {
   "cell_type": "code",
   "execution_count": 10,
   "id": "4abd6bf0-0297-42f3-8137-09c756cea4ca",
   "metadata": {},
   "outputs": [
    {
     "data": {
      "text/plain": [
       "Code(prefix=\"The function 'move' is responsible for updating the position of the snake based on its current direction. If the snake is set to grow, it will increase its length by adding a new segment at the head's position. Otherwise, it will move by adding a new head and removing the tail segment. This function ensures the snake's movement is consistent with the game's rules.\", imports='from typing import List, Tuple', code='class Snake:\\n    def __init__(self, initial_position: Tuple[int, int]) -> None:\\n        \"\"\"\\n        Initializes the snake with a starting position and initial direction.\\n        \"\"\"\\n        self.body: List[Tuple[int, int]] = [initial_position]\\n        self.direction: Tuple[int, int] = (0, -1)  # Default direction is north (up)\\n        self.grow: bool = False\\n\\n    def move(self) -> None:\\n        \"\"\"\\n        Moves the snake in the current direction, growing if necessary.\\n        \"\"\"\\n        # Calculate new head position\\n        new_head = (self.body[0][0] + self.direction[0], self.body[0][1] + self.direction[1])\\n\\n        # Insert new head at the beginning of the body list\\n        self.body.insert(0, new_head)\\n\\n        # If the snake is not set to grow, remove the last segment\\n        if not self.grow:\\n            self.body.pop()\\n        else:\\n            # Reset grow flag after growing\\n            self.grow = False\\n\\n    def change_direction(self, new_direction: Tuple[int, int]) -> None:\\n        \"\"\"\\n        Changes the snake\\'s direction, ensuring no 180-degree turns.\\n        \"\"\"\\n        # Prevent 180-degree turn by checking if new direction is opposite to current\\n        if (self.direction[0] + new_direction[0] != 0) or (self.direction[1] + new_direction[1] != 0):\\n            self.direction = new_direction\\n\\n    def grow_snake(self) -> None:\\n        \"\"\"\\n        Sets the snake to grow on the next move.\\n        \"\"\"\\n        self.grow = True')"
      ]
     },
     "execution_count": 10,
     "metadata": {},
     "output_type": "execute_result"
    }
   ],
   "source": [
    "circle_area_function = llm_gpt4o.invoke([SystemMessage(content=system_prompt)] + [HumanMessage(content=circle_area_prompt)])\n",
    "#code = Code.model_validate_json(circle_area_function.content)\n",
    "#code\n",
    "circle_area_function"
   ]
  },
  {
   "cell_type": "markdown",
   "id": "9c96820a-7637-410d-a88a-bda430e3ecf8",
   "metadata": {},
   "source": [
    "#### Create graph state"
   ]
  },
  {
   "cell_type": "code",
   "execution_count": 16,
   "id": "4a9d3ade-fcb9-4876-a7df-52e06f1f0b9b",
   "metadata": {},
   "outputs": [],
   "source": [
    "class CodeGeneratorState(TypedDict):\n",
    "    llm: str\n",
    "    messages: Annotated[List[AIMessage | HumanMessage | SystemMessage], add] \n",
    "    error: int\n",
    "    generation: Code\n",
    "    iterations: int"
   ]
  },
  {
   "cell_type": "markdown",
   "id": "7b62114a-40a6-45cb-9a29-c37554bba461",
   "metadata": {},
   "source": [
    "#### Code generation node"
   ]
  },
  {
   "cell_type": "code",
   "execution_count": 17,
   "id": "4fa34887-813d-4685-a736-e594b9738480",
   "metadata": {},
   "outputs": [],
   "source": [
    "def generate_code(state: CodeGeneratorState):\n",
    "    \n",
    "    print(f\"---{state[\"llm\"]} GENERATING CODE SOLUTION---\")\n",
    "\n",
    "    iterations = state[\"iterations\"]\n",
    "    iterations += 1\n",
    "\n",
    "    match state[\"llm\"]:\n",
    "        case \"gpt-4o\":\n",
    "            solution = llm_gpt4o.invoke(state[\"messages\"])\n",
    "        case \"claude3-7-sonnet\":\n",
    "            try:\n",
    "                solution = llm_claude3_7_sonnet.invoke(state[\"messages\"])\n",
    "            except ValidationError as e:\n",
    "                print(f'---{state[\"llm\"]} FAILED TO RETURN STRUCTURED OUTPUT---')\n",
    "                return {\"messages\": [AIMessage(content='No generation')], \"error\": 1, \"generation\": None, \"iterations\": iterations}\n",
    "\n",
    "    ai_message = AIMessage(content=\"prefix= {}, imports= {}, code= {}\".format(solution.prefix, solution.imports, solution.code))\n",
    "\n",
    "    return {\"messages\": [ai_message], \"error\": 0, \"generation\": solution, \"iterations\": iterations}"
   ]
  },
  {
   "cell_type": "markdown",
   "id": "ea31cb00-c5d8-44b5-8a90-4b56156dbb93",
   "metadata": {},
   "source": [
    "#### Code checking node"
   ]
  },
  {
   "cell_type": "code",
   "execution_count": 53,
   "id": "afaa92c4-5984-4e84-b9ef-bde3b4adfa0a",
   "metadata": {},
   "outputs": [],
   "source": [
    "def check_code(state: CodeGeneratorState):\n",
    "\n",
    "    print(f\"--- CHECKING CODE SOLUTION of {state[\"llm\"]} ---\")\n",
    "\n",
    "    class CodeCheck(BaseModel):\n",
    "        score: int = Field(description=\"Flag to show if the solution is accepted. 1 is accepted, 0 is not accepted.\")\n",
    "        suggestion: str = Field(description=\"Improvement suggestions.\")\n",
    "\n",
    "    solution_imports = state[\"generation\"].imports\n",
    "    solution_code = state[\"generation\"].code\n",
    "\n",
    "    print(f'SOLUTION: {solution_code}')\n",
    "\n",
    "    llm_gpt4o_checker = ChatOpenAI(model=\"gpt-4o\", temperature=0)\n",
    "    llm_gpt4o_checker = llm_gpt4o_checker.with_structured_output(CodeCheck)\n",
    "\n",
    "    checker_system_prompt = \"\"\"You are a senior Python developer, who helps with peer review. Complete a review of the provided code.\n",
    "    The code is divided into imports and code.\n",
    "    During review, consider the following:\n",
    "    - Is the code formatted correctly? You can ignore indentation issues.\n",
    "    - Are SOLID principles followed?\n",
    "    - Are errors handled correctly?\n",
    "    - Is minimal nesting used?\n",
    "    - No unnecessary comments?\n",
    "    - Is the code easy to read?\n",
    "    - Is the code not repeated?\n",
    "    - Is the code not too long?\n",
    "    - Is the code performance acceptable?\n",
    "    - Is the code secure?\n",
    "    - Is there sufficient documentation?\n",
    "    Not all elements of the criteria must be met at all times! For example, if error handling is not necessary, don't force its use!\n",
    "    The solution doesn't have to be perfect! It is enough, if it lives up to the basic level of the criteria!\n",
    "    Format your answer as follows:\n",
    "    score: an integer that determines if the implementation is accepted. Return 1, if the solution is accepted and 0, if the solution is not accepted.\n",
    "    suggestion: if the solution is not accepted, include a short suggestion here that can be used to improve the code. Otherwise return here 'No suggestions, solution accepted.'\"\"\"\n",
    "\n",
    "    checker_prompt = \"\"\"\n",
    "    Imports:\n",
    "    {}\n",
    "    Code:\n",
    "    {}\"\"\".format(solution_imports, solution_code)\n",
    "\n",
    "    checker_response = llm_gpt4o_checker.invoke([SystemMessage(content=checker_system_prompt)] + [HumanMessage(content=checker_prompt)])\n",
    "\n",
    "    if checker_response.score == 0:\n",
    "        print(\"---PEER REVIEW FAILED---\")\n",
    "        update_message = \"\"\"Your solution was not accepted during peer review. Please try again to create the solution.\n",
    "        Take into consideration the improvement suggestion and follow the initial user prompt.\n",
    "        Suggestion:\n",
    "        {}\"\"\".format(checker_response.suggestion)\n",
    "        print(f\"SUGGESTION: {checker_response.suggestion}\")\n",
    "        return {\"messages\": [HumanMessage(content=update_message)], \"error\": 1}\n",
    "    else:\n",
    "        print(\"---PEER REVIEW PASSED---\")\n",
    "        return {\"error\": 0}"
   ]
  },
  {
   "cell_type": "markdown",
   "id": "f87cc5e7-4bb0-4c11-8b37-66f0a3b248c3",
   "metadata": {},
   "source": [
    "#### Conditional edges"
   ]
  },
  {
   "cell_type": "code",
   "execution_count": 33,
   "id": "86c7f04c-fc47-4b71-a1c0-69ffd3994289",
   "metadata": {},
   "outputs": [],
   "source": [
    "def proceed_to_code_check(state: CodeGeneratorState):\n",
    "    if state[\"iterations\"] == MAX_ITERATIONS and state[\"error\"] == 1:\n",
    "        print(f\"--- {state[\"llm\"]} DECISION: FINISH---\")\n",
    "        log_code_generation(f'{class_name}_{function_name}', state['llm'], state['iterations'], state['error'])\n",
    "        return \"END\"\n",
    "    elif state[\"error\"] == 1:\n",
    "        print(f\"---{state[\"llm\"]} DECISION: RE-TRY SOLUTION---\")\n",
    "        return \"generate_code\"\n",
    "    else:\n",
    "        print(f\"---{state[\"llm\"]} DECISION: PROCEED TO CODE CHECK---\")\n",
    "        return \"check_code\""
   ]
  },
  {
   "cell_type": "code",
   "execution_count": 34,
   "id": "c34fbf89-650a-4416-a40d-66b71fa08013",
   "metadata": {},
   "outputs": [],
   "source": [
    "def finish(state: CodeGeneratorState):\n",
    "\n",
    "    if state[\"error\"] == 0 or state[\"iterations\"] == MAX_ITERATIONS:\n",
    "        print(f\"--- {state[\"llm\"]} DECISION: FINISH---\")\n",
    "        log_code_generation(f'{class_name}_{function_name}', state['llm'], state['iterations'], state['error'])\n",
    "        return \"END\"\n",
    "    else:\n",
    "        print(f\"---{state[\"llm\"]} DECISION: RE-TRY SOLUTION---\")\n",
    "        return \"generate_code\""
   ]
  },
  {
   "cell_type": "markdown",
   "id": "f7ad2056-b27a-44d8-9f51-4a088a387af6",
   "metadata": {},
   "source": [
    "#### Create the graph"
   ]
  },
  {
   "cell_type": "code",
   "execution_count": 54,
   "id": "9efccfbb-1f52-47f1-aa73-aecc7d318dab",
   "metadata": {},
   "outputs": [
    {
     "data": {
      "image/png": "[encoded data removed]",
      "text/plain": [
       "<IPython.core.display.Image object>"
      ]
     },
     "metadata": {},
     "output_type": "display_data"
    }
   ],
   "source": [
    "code_generator_builder = StateGraph(CodeGeneratorState)\n",
    "\n",
    "code_generator_builder.add_node(\"generate_code\", generate_code)\n",
    "code_generator_builder.add_node(\"check_code\", check_code)\n",
    "\n",
    "code_generator_builder.add_edge(START, \"generate_code\")\n",
    "code_generator_builder.add_conditional_edges(\"generate_code\", proceed_to_code_check)\n",
    "code_generator_builder.add_conditional_edges(\"check_code\", finish, {\"generate_code\": \"generate_code\", \"END\": END})\n",
    "\n",
    "code_generator_subgraph = code_generator_builder.compile()\n",
    "\n",
    "display(Image(code_generator_subgraph.get_graph(xray=1).draw_mermaid_png()))"
   ]
  },
  {
   "cell_type": "markdown",
   "id": "52a079bf-5af9-4611-bb95-0202a1e5a31d",
   "metadata": {},
   "source": [
    "## Create unit testing subgraph"
   ]
  },
  {
   "cell_type": "code",
   "execution_count": 36,
   "id": "87884f7b-e78b-44c2-82c5-8b951cf5b567",
   "metadata": {},
   "outputs": [],
   "source": [
    "class TestGeneratorState(TypedDict):\n",
    "    messages: Annotated[List[AIMessage | HumanMessage | SystemMessage], add]\n",
    "    test: str"
   ]
  },
  {
   "cell_type": "code",
   "execution_count": 37,
   "id": "bbb250fb-dcde-4068-941f-9f92f29694c8",
   "metadata": {},
   "outputs": [],
   "source": [
    "def generate_unit_test(state: TestGeneratorState):\n",
    "\n",
    "    print(\"---GENERATING UNIT TESTS\")\n",
    "\n",
    "    llm_gpt4o_tester = ChatOpenAI(model=\"gpt-4o\", temperature=0)\n",
    "\n",
    "    llm_gpt4o_tester_response = llm_gpt4o_tester.invoke(state[\"messages\"])\n",
    "\n",
    "    return {\"test\": llm_gpt4o_tester_response.content}"
   ]
  },
  {
   "cell_type": "code",
   "execution_count": 38,
   "id": "d9116a2b-596e-46dc-b161-547bca1f88e9",
   "metadata": {},
   "outputs": [
    {
     "data": {
      "image/png": "[encoded data removed]",
      "text/plain": [
       "<IPython.core.display.Image object>"
      ]
     },
     "metadata": {},
     "output_type": "display_data"
    }
   ],
   "source": [
    "test_generator_builder = StateGraph(TestGeneratorState)\n",
    "\n",
    "test_generator_builder.add_node(\"generate_unit_test\", generate_unit_test)\n",
    "\n",
    "test_generator_builder.add_edge(START, \"generate_unit_test\")\n",
    "test_generator_builder.add_edge(\"generate_unit_test\", END)\n",
    "\n",
    "test_generator_subgraph = test_generator_builder.compile()\n",
    "\n",
    "display(Image(test_generator_subgraph.get_graph(xray=1).draw_mermaid_png()))"
   ]
  },
  {
   "cell_type": "markdown",
   "id": "5271b1ce-65fa-4379-b15c-940b6a3c5b4e",
   "metadata": {},
   "source": [
    "## Create the code assistant graph"
   ]
  },
  {
   "cell_type": "code",
   "execution_count": 39,
   "id": "3403e798-1672-4523-982c-ec6c200b4c90",
   "metadata": {},
   "outputs": [],
   "source": [
    "class CodeAssistantState(TypedDict):\n",
    "    generations: Annotated[List[Code], add]\n",
    "    generators: Annotated[List[str], add]\n",
    "    candidate: int\n",
    "    test: str"
   ]
  },
  {
   "cell_type": "code",
   "execution_count": 40,
   "id": "5d070bb2-0b4a-4fb7-8931-e7f59efc4752",
   "metadata": {},
   "outputs": [],
   "source": [
    "def initiate_code_generators(state: CodeAssistantState):\n",
    "    responses = []\n",
    "    responders = []\n",
    "    \n",
    "    gpt4o_response = code_generator_subgraph.invoke({\"llm\": \"gpt-4o\", \"messages\": [SystemMessage(content=system_prompt)] + [HumanMessage(content=code_prompt)],\n",
    "                                                     \"iterations\": 0})\n",
    "    claude3_7_sonnet_response = code_generator_subgraph.invoke({\"llm\": \"claude3-7-sonnet\", \"messages\": [SystemMessage(content=system_prompt)] + [HumanMessage(content=code_prompt)],\n",
    "                            \"iterations\": 0})\n",
    "\n",
    "    if gpt4o_response[\"error\"] == 0:\n",
    "        print('GPT-4o SOLUTION IS CANDIDATE')\n",
    "        responses.append(gpt4o_response[\"generation\"])\n",
    "        responders.append('GPT-4o')\n",
    "\n",
    "    if claude3_7_sonnet_response[\"error\"] == 0:\n",
    "        print('Claude3-7-Sonnet SOLUTION IS CANDIDATE')\n",
    "        responses.append(claude3_7_sonnet_response[\"generation\"])\n",
    "        responders.append('Claude 3.7 Sonnet')\n",
    "        \n",
    "    return {\"generations\" : responses, \"generators\": responders}"
   ]
  },
  {
   "cell_type": "code",
   "execution_count": 41,
   "id": "b11e1bbb-c4ff-4507-beae-d30ad2028828",
   "metadata": {},
   "outputs": [],
   "source": [
    "def no_candidate(state: CodeAssistantState):\n",
    "    if len(list(filter(lambda x: x != None, state[\"generations\"]))) == 0:\n",
    "        return \"END\"\n",
    "    return \"select_candidate\""
   ]
  },
  {
   "cell_type": "code",
   "execution_count": 42,
   "id": "64d97400-efc9-4b52-944f-630fdfe2d2fb",
   "metadata": {},
   "outputs": [],
   "source": [
    "def select_candidate(state: CodeAssistantState):\n",
    "    \n",
    "    overseer_system_prompt = \"You are an experienced Python developer. You help with choosing the best solution from a list of function candidates.\"\n",
    "\n",
    "    overseer_candidate_prompt = \"\"\"Please help choose the best candidate from the following list. The list contains function implementations with a\n",
    "    description of the function, the list of imported modules and libraries, and the source code. Every solution is developed in Python. \n",
    "    When determining the best candidate, consider the following:\\n\n",
    "    - The function is properly named\n",
    "    - The parameter list and the return value are easy to understand\n",
    "    - Preferably there is function documentation\n",
    "    - The function implementation is clear, robust, and secure\\n\n",
    "    The list of implementations has the following structure:\\n\n",
    "    [X], where X is the number of the candidate starting with 0.\n",
    "    prefix: <the description of the function>\n",
    "    imports: <the list of imported modules and libraries as a continuous string>\n",
    "    code: <the source code as a continuous string>\n",
    "    As a response, return only the number of the chosen candidate.\\n\"\"\"\n",
    "\n",
    "    for num, candidate in enumerate(state[\"generations\"]):\n",
    "        overseer_candidate_prompt = overseer_candidate_prompt + f\"[{num}]\\nprefix: {candidate.prefix}\\nimports: {candidate.imports}\\ncode: {candidate.code}\\n\"\n",
    "\n",
    "    llm_gpt4o_overseer = ChatOpenAI(model=\"gpt-4o\", temperature=0)\n",
    "\n",
    "    overseer_response = llm_gpt4o_overseer.invoke([SystemMessage(content=overseer_system_prompt)] + [HumanMessage(content=overseer_candidate_prompt)])\n",
    "\n",
    "    log_candidate_selection(f'{class_name}_{function_name}', state['generators'][int(overseer_response.content)])\n",
    "\n",
    "    return {\"candidate\": int(overseer_response.content)}"
   ]
  },
  {
   "cell_type": "code",
   "execution_count": 43,
   "id": "27e8336a-57ab-4eba-bb7f-e407301a579d",
   "metadata": {},
   "outputs": [],
   "source": [
    "def initiate_test_generators(state: CodeAssistantState):\n",
    "    candidate = state[\"generations\"][state[\"candidate\"]]\n",
    "    \n",
    "    test_generator_system_prompt = \"\"\"You are an experienced Python tester. You help with writing unit tests for functions.\n",
    "    Write unit tests for the input function.\n",
    "    Follow the unit testing best practices:\n",
    "    - Make sure to cover edge cases.\n",
    "    - Give the test functions meaningful names.\n",
    "    - Write readable, simple tests.\n",
    "    - Write deterministic tests.\n",
    "    - Test one scenario per test.\n",
    "    - Write isolated tests, use mocks if necessary.\n",
    "    - Avoid test interdependence.\n",
    "    - Avoid active API calls.\n",
    "    Use the unittest Python module to create the test cases.\"\"\"\n",
    "    \n",
    "    test_generator_prompt = f\"\"\"The function is presented as follows:\n",
    "    prefix = <description of the function>\n",
    "    imports = <imported modules and libraries>\n",
    "    code = <function implementation>\n",
    "    Your response is only the entire test code.\n",
    "    The function is the following:\n",
    "    prefix: {candidate.prefix}\n",
    "    imports: {candidate.imports}\n",
    "    code: {candidate.code}\"\"\"\n",
    "    \n",
    "    test_generator_response = test_generator_subgraph.invoke({\"messages\": [SystemMessage(content=test_generator_system_prompt)] + [HumanMessage(content=test_generator_prompt)]})\n",
    "\n",
    "    return {\"test\": test_generator_response[\"test\"]}"
   ]
  },
  {
   "cell_type": "code",
   "execution_count": 55,
   "id": "df36b120-708f-44d6-9fbc-a4039816600d",
   "metadata": {},
   "outputs": [
    {
     "data": {
      "image/png": "[encoded data removed]",
      "text/plain": [
       "<IPython.core.display.Image object>"
      ]
     },
     "metadata": {},
     "output_type": "display_data"
    }
   ],
   "source": [
    "code_assistant_builder = StateGraph(CodeAssistantState)\n",
    "\n",
    "code_assistant_builder.add_node(\"initiate_code_generators\", initiate_code_generators)\n",
    "code_assistant_builder.add_node(\"select_candidate\", select_candidate)\n",
    "code_assistant_builder.add_node(\"initiate_test_generators\", initiate_test_generators)\n",
    "\n",
    "code_assistant_builder.add_edge(START, \"initiate_code_generators\")\n",
    "code_assistant_builder.add_conditional_edges(\"initiate_code_generators\", no_candidate, {\"select_candidate\": \"select_candidate\", \"END\": END})\n",
    "code_assistant_builder.add_edge(\"select_candidate\", \"initiate_test_generators\")\n",
    "code_assistant_builder.add_edge(\"initiate_test_generators\", END)\n",
    "\n",
    "code_assistant_graph = code_assistant_builder.compile()\n",
    "\n",
    "display(Image(code_assistant_graph.get_graph(xray=1).draw_mermaid_png()))"
   ]
  },
  {
   "cell_type": "code",
   "execution_count": 63,
   "id": "62e8224d-d079-41f5-b56e-24057d5e97f6",
   "metadata": {},
   "outputs": [
    {
     "name": "stdout",
     "output_type": "stream",
     "text": [
      "---gpt-4o GENERATING CODE SOLUTION---\n",
      "---gpt-4o DECISION: PROCEED TO CODE CHECK---\n",
      "--- CHECKING CODE SOLUTION of gpt-4o ---\n",
      "SOLUTION: def exit_game(self) -> None:\n",
      "    \"\"\"\n",
      "    Exits the game application by quitting pygame and terminating the program.\n",
      "    \"\"\"\n",
      "    pygame.quit()  # Quit the pygame module\n",
      "    sys.exit()  # Exit the application\n",
      "---PEER REVIEW FAILED---\n",
      "SUGGESTION: 1. The function `exit_game` is defined as a method (indicated by `self`), but there is no class context provided. If this is intended to be a method of a class, ensure that it is placed within a class definition.\n",
      "2. The docstring should be indented to align with the function body for better readability.\n",
      "3. The imports are correct and necessary for the functionality provided.\n",
      "4. Consider adding a check to ensure that `pygame` is initialized before calling `pygame.quit()` to avoid potential errors.\n",
      "5. The code is simple and performs its intended function effectively, but ensure it is placed within the appropriate class or context if `self` is used.\n",
      "---gpt-4o DECISION: RE-TRY SOLUTION---\n",
      "---gpt-4o GENERATING CODE SOLUTION---\n",
      "---gpt-4o DECISION: PROCEED TO CODE CHECK---\n",
      "--- CHECKING CODE SOLUTION of gpt-4o ---\n",
      "SOLUTION: class Game:\n",
      "    window_size: tuple[int, int] = (600, 600)  # The size of the game window\n",
      "    frame_rate: int = 15  # The frame rate for the game\n",
      "\n",
      "    def exit_game(self) -> None:\n",
      "        \"\"\"\n",
      "        Exits the game application by quitting pygame and terminating the program.\n",
      "        \"\"\"\n",
      "        if pygame.get_init():  # Check if pygame is initialized\n",
      "            pygame.quit()  # Quit the pygame module\n",
      "        sys.exit()  # Exit the application\n",
      "\n",
      "---PEER REVIEW FAILED---\n",
      "SUGGESTION: 1. **Code Formatting**: The class attributes `window_size` and `frame_rate` should be indented to indicate they are part of the `Game` class.\n",
      "\n",
      "2. **SOLID Principles**: The class `Game` should encapsulate more functionality related to the game, such as initializing the game window, handling events, etc. Currently, it only contains an `exit_game` method, which is not sufficient to represent a game.\n",
      "\n",
      "3. **Error Handling**: The `exit_game` method does not handle potential exceptions that might occur during `pygame.quit()` or `sys.exit()`. Consider wrapping these calls in a try-except block to handle any unexpected errors gracefully.\n",
      "\n",
      "4. **Minimal Nesting**: The code uses minimal nesting, which is good.\n",
      "\n",
      "5. **Comments and Documentation**: The code is well-documented with a docstring for the `exit_game` method, which is good. However, additional comments or docstrings explaining the purpose of the `Game` class and its attributes would be beneficial.\n",
      "\n",
      "6. **Code Readability**: The code is easy to read, but the class lacks functionality, which makes it difficult to understand its purpose.\n",
      "\n",
      "7. **Code Repetition**: There is no code repetition, which is good.\n",
      "\n",
      "8. **Code Length**: The code is not too long, but it is incomplete for a game class.\n",
      "\n",
      "9. **Performance**: The performance is acceptable for the given functionality.\n",
      "\n",
      "10. **Security**: The code does not handle any sensitive data, so security is not a concern here.\n",
      "\n",
      "To improve the code, consider expanding the `Game` class to include more game-related functionality, handle potential exceptions, and provide more documentation.\n",
      "---gpt-4o DECISION: RE-TRY SOLUTION---\n",
      "---gpt-4o GENERATING CODE SOLUTION---\n",
      "---gpt-4o DECISION: PROCEED TO CODE CHECK---\n",
      "--- CHECKING CODE SOLUTION of gpt-4o ---\n",
      "SOLUTION: class Game:\n",
      "    \"\"\"\n",
      "    Represents the overall game logic and state.\n",
      "    \"\"\"\n",
      "    window_size: tuple[int, int] = (600, 600)  # The size of the game window\n",
      "    frame_rate: int = 15  # The frame rate for the game\n",
      "\n",
      "    def __init__(self):\n",
      "        \"\"\"\n",
      "        Initializes the game, setting up the game window and initial state.\n",
      "        \"\"\"\n",
      "        pygame.init()\n",
      "        self.screen = pygame.display.set_mode(self.window_size)\n",
      "        pygame.display.set_caption('Snake Game')\n",
      "        self.clock = pygame.time.Clock()\n",
      "        self.running = True\n",
      "\n",
      "    def exit_game(self) -> None:\n",
      "        \"\"\"\n",
      "        Exits the game application by quitting pygame and terminating the program.\n",
      "        \"\"\"\n",
      "        try:\n",
      "            if pygame.get_init():  # Check if pygame is initialized\n",
      "                pygame.quit()  # Quit the pygame module\n",
      "            sys.exit()  # Exit the application\n",
      "        except Exception as e:\n",
      "            print(f\"An error occurred while exiting the game: {e}\")\n",
      "\n",
      "---PEER REVIEW FAILED---\n",
      "SUGGESTION: 1. **Code Formatting**: The code is mostly well-formatted, but the class attributes `window_size` and `frame_rate` should be defined within the `__init__` method or as class variables with `self` to maintain consistency and clarity.\n",
      "\n",
      "2. **SOLID Principles**: The code follows the Single Responsibility Principle by having a class dedicated to game logic. However, the `exit_game` method could be separated into a utility function or a different class if more exit-related logic is added in the future.\n",
      "\n",
      "3. **Error Handling**: The error handling in `exit_game` is basic but acceptable for this context. However, it would be better to log the error instead of printing it, especially for larger applications.\n",
      "\n",
      "4. **Minimal Nesting**: The code uses minimal nesting, which is good.\n",
      "\n",
      "5. **Comments and Documentation**: The code is well-documented with docstrings, which is good for readability and maintenance.\n",
      "\n",
      "6. **Code Readability**: The code is easy to read and understand.\n",
      "\n",
      "7. **Code Repetition**: There is no code repetition.\n",
      "\n",
      "8. **Code Length**: The code is concise and not too long.\n",
      "\n",
      "9. **Performance**: The performance is acceptable for this simple game setup.\n",
      "\n",
      "10. **Security**: The code does not handle any sensitive data, so security is not a major concern here.\n",
      "\n",
      "**Suggestion**: Move the class attributes `window_size` and `frame_rate` to be instance variables within the `__init__` method, or use `self.window_size` and `self.frame_rate` to make it clear they are part of the class instance. Consider using a logging mechanism instead of `print` for error handling in `exit_game`.\n",
      "---gpt-4o DECISION: RE-TRY SOLUTION---\n",
      "---gpt-4o GENERATING CODE SOLUTION---\n",
      "---gpt-4o DECISION: PROCEED TO CODE CHECK---\n",
      "--- CHECKING CODE SOLUTION of gpt-4o ---\n",
      "SOLUTION: class Game:\n",
      "    \"\"\"\n",
      "    Represents the overall game logic and state.\n",
      "    \"\"\"\n",
      "\n",
      "    def __init__(self):\n",
      "        \"\"\"\n",
      "        Initializes the game, setting up the game window and initial state.\n",
      "        \"\"\"\n",
      "        self.window_size = (600, 600)  # The size of the game window\n",
      "        self.frame_rate = 15  # The frame rate for the game\n",
      "        pygame.init()\n",
      "        self.screen = pygame.display.set_mode(self.window_size)\n",
      "        pygame.display.set_caption('Snake Game')\n",
      "        self.clock = pygame.time.Clock()\n",
      "        self.running = True\n",
      "\n",
      "    def exit_game(self) -> None:\n",
      "        \"\"\"\n",
      "        Exits the game application by quitting pygame and terminating the program.\n",
      "        \"\"\"\n",
      "        try:\n",
      "            if pygame.get_init():  # Check if pygame is initialized\n",
      "                pygame.quit()  # Quit the pygame module\n",
      "            sys.exit()  # Exit the application\n",
      "        except Exception as e:\n",
      "            logging.error(f\"An error occurred while exiting the game: {e}\")\n",
      "---PEER REVIEW FAILED---\n",
      "SUGGESTION: 1. **SOLID Principles**: The code is generally following the SOLID principles, but the `Game` class could be more modular. Consider separating the game logic from the initialization and exit logic.\n",
      "\n",
      "2. **Error Handling**: The error handling in `exit_game` is good, but it could be improved by handling specific exceptions rather than a generic `Exception`. This would make debugging easier.\n",
      "\n",
      "3. **Minimal Nesting**: The code uses minimal nesting, which is good for readability.\n",
      "\n",
      "4. **Code Readability**: The code is easy to read, but the `exit_game` method could be simplified by removing the `if` check for `pygame.get_init()`, as `pygame.quit()` is safe to call even if pygame is not initialized.\n",
      "\n",
      "5. **Code Repetition**: There is no code repetition, which is good.\n",
      "\n",
      "6. **Performance**: The performance is acceptable for a simple game setup.\n",
      "\n",
      "7. **Security**: There are no apparent security issues, but ensure that any user input or external data is validated and sanitized.\n",
      "\n",
      "8. **Documentation**: The class and methods are well-documented, which is good.\n",
      "\n",
      "9. **Imports**: The imports are correct, but consider organizing them according to PEP 8 guidelines (standard library imports first, followed by third-party imports).\n",
      "\n",
      "Suggestion:\n",
      "- Refactor the `exit_game` method to remove unnecessary checks and handle specific exceptions.\n",
      "- Organize imports according to PEP 8 guidelines.\n",
      "---gpt-4o DECISION: RE-TRY SOLUTION---\n",
      "---gpt-4o GENERATING CODE SOLUTION---\n",
      "---gpt-4o DECISION: PROCEED TO CODE CHECK---\n",
      "--- CHECKING CODE SOLUTION of gpt-4o ---\n",
      "SOLUTION: class Game:\n",
      "    \"\"\"\n",
      "    Represents the overall game logic and state.\n",
      "    \"\"\"\n",
      "\n",
      "    def __init__(self):\n",
      "        \"\"\"\n",
      "        Initializes the game, setting up the game window and initial state.\n",
      "        \"\"\"\n",
      "        self.window_size = (600, 600)  # The size of the game window\n",
      "        self.frame_rate = 15  # The frame rate for the game\n",
      "        pygame.init()\n",
      "        self.screen = pygame.display.set_mode(self.window_size)\n",
      "        pygame.display.set_caption('Snake Game')\n",
      "        self.clock = pygame.time.Clock()\n",
      "        self.running = True\n",
      "\n",
      "    def exit_game(self) -> None:\n",
      "        \"\"\"\n",
      "        Exits the game application by quitting pygame and terminating the program.\n",
      "        \"\"\"\n",
      "        try:\n",
      "            pygame.quit()  # Quit the pygame module\n",
      "            sys.exit()  # Exit the application\n",
      "        except SystemExit:\n",
      "            logging.info(\"Game exited successfully.\")\n",
      "        except Exception as e:\n",
      "            logging.error(f\"An unexpected error occurred while exiting the game: {e}\")\n",
      "---PEER REVIEW FAILED---\n",
      "SUGGESTION: 1. **Code Formatting**: The imports should be organized with one import per line for better readability. Also, ensure consistent indentation for the class and method definitions.\n",
      "\n",
      "2. **SOLID Principles**: The class `Game` is responsible for multiple tasks such as initializing the game, setting up the window, and handling the exit process. Consider separating these responsibilities into different classes or methods to adhere to the Single Responsibility Principle.\n",
      "\n",
      "3. **Error Handling**: The `exit_game` method handles exceptions, but the `SystemExit` exception should not be caught as it is intended to exit the program. Instead, allow it to propagate naturally.\n",
      "\n",
      "4. **Minimal Nesting**: The code has minimal nesting, which is good.\n",
      "\n",
      "5. **Comments and Documentation**: The code is well-documented with docstrings, which is good. However, consider adding more detailed comments where necessary, especially in complex logic.\n",
      "\n",
      "6. **Code Readability**: The code is generally easy to read, but organizing imports and ensuring consistent indentation will improve readability.\n",
      "\n",
      "7. **Code Repetition**: There is no code repetition, which is good.\n",
      "\n",
      "8. **Code Length**: The code is not too long, which is good.\n",
      "\n",
      "9. **Performance**: The performance is acceptable for the given task.\n",
      "\n",
      "10. **Security**: The code does not handle any sensitive data, so security is not a major concern here.\n",
      "\n",
      "To improve the code, consider refactoring the `Game` class to separate concerns, organize imports, and avoid catching `SystemExit`.\n",
      "--- gpt-4o DECISION: FINISH---\n",
      "---claude3-7-sonnet GENERATING CODE SOLUTION---\n",
      "---claude3-7-sonnet DECISION: PROCEED TO CODE CHECK---\n",
      "--- CHECKING CODE SOLUTION of claude3-7-sonnet ---\n",
      "SOLUTION: def exit_game(self):\n",
      "    \"\"\"\n",
      "    Safely exits the game application by terminating pygame and closing the application.\n",
      "    \n",
      "    This method should be called when the user wants to quit the game or when\n",
      "    the application needs to be closed. It ensures that pygame resources are\n",
      "    properly released before exiting.\n",
      "    \n",
      "    Args:\n",
      "        self: The Game instance\n",
      "        \n",
      "    Returns:\n",
      "        None\n",
      "    \"\"\"\n",
      "    # Quit pygame to release all resources and modules\n",
      "    pygame.quit()\n",
      "    \n",
      "    # Exit the application\n",
      "    sys.exit()\n",
      "---PEER REVIEW FAILED---\n",
      "SUGGESTION: 1. **Formatting**: The function `exit_game` is not indented properly. It should be indented to indicate that it is part of a class, as suggested by the `self` parameter.\n",
      "\n",
      "2. **SOLID Principles**: The function seems to adhere to the Single Responsibility Principle by focusing solely on exiting the game.\n",
      "\n",
      "3. **Error Handling**: There is no error handling in place. While `pygame.quit()` and `sys.exit()` are generally safe, it might be beneficial to wrap them in a try-except block to handle any unexpected exceptions gracefully.\n",
      "\n",
      "4. **Minimal Nesting**: The function does not have unnecessary nesting, which is good.\n",
      "\n",
      "5. **Comments and Documentation**: The function is well-documented with a docstring explaining its purpose, arguments, and return value.\n",
      "\n",
      "6. **Code Readability**: The code is easy to read and understand.\n",
      "\n",
      "7. **Code Repetition**: There is no code repetition.\n",
      "\n",
      "8. **Code Length**: The code is concise and not too long.\n",
      "\n",
      "9. **Performance**: The performance is acceptable for the task it performs.\n",
      "\n",
      "10. **Security**: The code does not have any apparent security issues.\n",
      "\n",
      "**Suggestion**: Correct the indentation of the `exit_game` function to ensure it is part of a class. Consider adding basic error handling to manage any unexpected issues during the exit process.\n",
      "---claude3-7-sonnet DECISION: RE-TRY SOLUTION---\n",
      "---claude3-7-sonnet GENERATING CODE SOLUTION---\n",
      "---claude3-7-sonnet DECISION: PROCEED TO CODE CHECK---\n",
      "--- CHECKING CODE SOLUTION of claude3-7-sonnet ---\n",
      "SOLUTION:     def exit_game(self):\n",
      "        \"\"\"\n",
      "        Safely exits the game application by terminating pygame and closing the application.\n",
      "        \n",
      "        This method should be called when the user wants to quit the game or when\n",
      "        the application needs to be closed. It ensures that pygame resources are\n",
      "        properly released before exiting.\n",
      "        \n",
      "        Args:\n",
      "            self: The Game instance\n",
      "            \n",
      "        Returns:\n",
      "            None\n",
      "        \"\"\"\n",
      "        try:\n",
      "            # Quit pygame to release all resources and modules\n",
      "            pygame.quit()\n",
      "            \n",
      "            # Exit the application\n",
      "            sys.exit()\n",
      "        except Exception as e:\n",
      "            print(f\"Error while exiting the game: {e}\")\n",
      "            # Ensure the application exits even if an error occurs\n",
      "            sys.exit(1)\n",
      "---PEER REVIEW PASSED---\n",
      "--- claude3-7-sonnet DECISION: FINISH---\n",
      "Claude3-7-Sonnet SOLUTION IS CANDIDATE\n",
      "---GENERATING UNIT TESTS\n"
     ]
    }
   ],
   "source": [
    "code_assistant_response = code_assistant_graph.invoke({\"generations\": []})"
   ]
  },
  {
   "cell_type": "code",
   "execution_count": 58,
   "id": "f906e02e-04e7-45cb-ad84-769da4b9b049",
   "metadata": {},
   "outputs": [
    {
     "data": {
      "text/plain": [
       "{'generations': [Code(prefix='The function `start_game` is responsible for initiating and managing the main game loop. It handles user inputs, updates the game state, renders the game, and maintains a consistent frame rate. The function is refactored to adhere to SOLID principles, improve error handling, and enhance readability.', imports='import pygame\\nimport sys\\n', code='class Game:\\n    window_size: tuple[int, int] = (600, 600)  # The size of the game window\\n    frame_rate: int = 15  # The frame rate for the game\\n\\n    def __init__(self):\\n        \"\"\"\\n        Initializes the game, setting up the game window and initial state.\\n        \"\"\"\\n        pygame.init()\\n        self.screen = pygame.display.set_mode(self.window_size)\\n        pygame.display.set_caption(\\'Snake Game\\')\\n        self.clock = pygame.time.Clock()\\n        self.game_over = False\\n        self.snake = Snake((300, 300))  # Initialize snake at the center\\n        self.apple = Apple(self.snake.body)  # Initialize apple not on the snake\\n        self.ui = UserInterface()\\n\\n    def start_game(self):\\n        \"\"\"\\n        Starts the game loop, handling events and updating the game state.\\n        \"\"\"\\n        try:\\n            while not self.game_over:\\n                self.handle_events()\\n                self.update_game_state()\\n                self.render_game()\\n                self.clock.tick(self.frame_rate)\\n        except Exception as e:\\n            print(f\"An error occurred: {e}\")\\n        finally:\\n            self.end_game()\\n\\n    def handle_events(self):\\n        \"\"\"\\n        Handles user input events.\\n        \"\"\"\\n        self.ui.handle_input(self.snake)\\n\\n    def update_game_state(self):\\n        \"\"\"\\n        Updates the game state, including snake movement and collision checks.\\n        \"\"\"\\n        self.snake.move()\\n        if self.snake.check_collision():\\n            self.game_over = True\\n        if self.snake.body[0] == self.apple.position:\\n            self.snake.grow()\\n            self.apple.relocate(self.snake.body)\\n\\n    def render_game(self):\\n        \"\"\"\\n        Renders the current game state to the screen.\\n        \"\"\"\\n        self.ui.render(self, self.snake, self.apple)\\n\\n    def end_game(self):\\n        \"\"\"\\n        Ends the game and displays the final score.\\n        \"\"\"\\n        print(f\"Game Over! Your score: {len(self.snake.body) - 1}\")\\n        pygame.quit()\\n        sys.exit()')],\n",
       " 'generators': ['GPT-4o'],\n",
       " 'candidate': 0,\n",
       " 'test': '```python\\nimport unittest\\nfrom unittest.mock import patch, MagicMock\\nimport pygame\\nimport sys\\n\\n# Assuming the Game, Snake, Apple, and UserInterface classes are defined in a module named game_module\\nfrom game_module import Game, Snake, Apple, UserInterface\\n\\nclass TestGame(unittest.TestCase):\\n\\n    def setUp(self):\\n        # Mocking the Snake, Apple, and UserInterface classes\\n        self.mock_snake = MagicMock(spec=Snake)\\n        self.mock_apple = MagicMock(spec=Apple)\\n        self.mock_ui = MagicMock(spec=UserInterface)\\n\\n        # Patching the Game class to use the mocked classes\\n        with patch(\\'game_module.Snake\\', return_value=self.mock_snake), \\\\\\n             patch(\\'game_module.Apple\\', return_value=self.mock_apple), \\\\\\n             patch(\\'game_module.UserInterface\\', return_value=self.mock_ui):\\n            self.game = Game()\\n\\n    @patch(\\'pygame.quit\\')\\n    @patch(\\'sys.exit\\')\\n    def test_start_game_handles_exception(self, mock_sys_exit, mock_pygame_quit):\\n        # Simulate an exception during the game loop\\n        self.mock_snake.move.side_effect = Exception(\"Test Exception\")\\n\\n        # Run the start_game method\\n        self.game.start_game()\\n\\n        # Check if the game ends gracefully\\n        self.assertTrue(self.game.game_over)\\n        mock_pygame_quit.assert_called_once()\\n        mock_sys_exit.assert_called_once()\\n\\n    @patch(\\'pygame.quit\\')\\n    @patch(\\'sys.exit\\')\\n    def test_end_game(self, mock_sys_exit, mock_pygame_quit):\\n        # Run the end_game method\\n        self.game.end_game()\\n\\n        # Check if pygame.quit and sys.exit are called\\n        mock_pygame_quit.assert_called_once()\\n        mock_sys_exit.assert_called_once()\\n\\n    def test_handle_events_calls_ui_handle_input(self):\\n        # Run the handle_events method\\n        self.game.handle_events()\\n\\n        # Check if the UI\\'s handle_input method is called with the snake\\n        self.mock_ui.handle_input.assert_called_once_with(self.mock_snake)\\n\\n    def test_update_game_state_snake_collision(self):\\n        # Simulate snake collision\\n        self.mock_snake.check_collision.return_value = True\\n\\n        # Run the update_game_state method\\n        self.game.update_game_state()\\n\\n        # Check if the game is set to over\\n        self.assertTrue(self.game.game_over)\\n\\n    def test_update_game_state_snake_eats_apple(self):\\n        # Simulate snake eating the apple\\n        self.mock_snake.body = [(300, 300)]\\n        self.mock_apple.position = (300, 300)\\n        self.mock_snake.check_collision.return_value = False\\n\\n        # Run the update_game_state method\\n        self.game.update_game_state()\\n\\n        # Check if the snake grows and apple relocates\\n        self.mock_snake.grow.assert_called_once()\\n        self.mock_apple.relocate.assert_called_once_with(self.mock_snake.body)\\n\\n    def test_render_game_calls_ui_render(self):\\n        # Run the render_game method\\n        self.game.render_game()\\n\\n        # Check if the UI\\'s render method is called with the game, snake, and apple\\n        self.mock_ui.render.assert_called_once_with(self.game, self.mock_snake, self.mock_apple)\\n\\nif __name__ == \\'__main__\\':\\n    unittest.main()\\n```'}"
      ]
     },
     "execution_count": 58,
     "metadata": {},
     "output_type": "execute_result"
    }
   ],
   "source": [
    "code_assistant_response"
   ]
  },
  {
   "cell_type": "code",
   "execution_count": 64,
   "id": "ef0db112-14c8-4503-8483-76f9048e5daf",
   "metadata": {},
   "outputs": [],
   "source": [
    "file_name = f'{class_name}_{function_name}.txt'\n",
    "candidate_idx = code_assistant_response['candidate']\n",
    "function_prefix = code_assistant_response['generations'][candidate_idx].prefix\n",
    "function_imports = code_assistant_response['generations'][candidate_idx].imports\n",
    "function_code = code_assistant_response['generations'][candidate_idx].code\n",
    "functions_tests = code_assistant_response['test']\n",
    "with open(f'code/{file_name}', 'w') as file:\n",
    "    file.write(f'Prefix:\\n{function_prefix}\\n')\n",
    "    file.write(f'\\nImports:\\n{function_imports}\\n')\n",
    "    file.write(f'\\nCode:\\n{function_code}\\n')\n",
    "    file.write(f'\\nTests:\\n{functions_tests}')"
   ]
  },
  {
   "cell_type": "code",
   "execution_count": null,
   "id": "f9563299-e078-4a97-bddf-edf11a07544a",
   "metadata": {},
   "outputs": [],
   "source": []
  }
 ],
 "metadata": {
  "kernelspec": {
   "display_name": "Python 3 (ipykernel)",
   "language": "python",
   "name": "python3"
  },
  "language_info": {
   "codemirror_mode": {
    "name": "ipython",
    "version": 3
   },
   "file_extension": ".py",
   "mimetype": "text/x-python",
   "name": "python",
   "nbconvert_exporter": "python",
   "pygments_lexer": "ipython3",
   "version": "3.13.1"
  }
 },
 "nbformat": 4,
 "nbformat_minor": 5
}
