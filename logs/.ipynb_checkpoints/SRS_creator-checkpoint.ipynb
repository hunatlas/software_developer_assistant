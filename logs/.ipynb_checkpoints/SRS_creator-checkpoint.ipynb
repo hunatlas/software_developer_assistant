{
 "cells": [
  {
   "cell_type": "code",
   "execution_count": 1,
   "id": "3b6cb076-1d64-4684-9044-7d14df0986cd",
   "metadata": {},
   "outputs": [
    {
     "name": "stdout",
     "output_type": "stream",
     "text": [
      "Note: you may need to restart the kernel to use updated packages.\n"
     ]
    },
    {
     "name": "stderr",
     "output_type": "stream",
     "text": [
      "\n",
      "[notice] A new release of pip is available: 24.3.1 -> 25.0.1\n",
      "[notice] To update, run: python.exe -m pip install --upgrade pip\n"
     ]
    }
   ],
   "source": [
    "%pip install --quiet -U langgraph langchain_openai langchain_community langchain_core"
   ]
  },
  {
   "cell_type": "code",
   "execution_count": 2,
   "id": "3b82a540-f4af-4197-87ac-6e43a832e8f6",
   "metadata": {},
   "outputs": [],
   "source": [
    "import os, getpass\n",
    "\n",
    "from pydantic import BaseModel, Field\n",
    "from pydantic_core import ValidationError\n",
    "from typing import List, Annotated\n",
    "from typing_extensions import TypedDict\n",
    "from operator import add\n",
    "\n",
    "from langchain_openai import ChatOpenAI\n",
    "from langchain_core.messages import AIMessage, HumanMessage, SystemMessage\n",
    "\n",
    "from IPython.display import Image, display\n",
    "from langgraph.graph import START, END, StateGraph\n",
    "from langgraph.checkpoint.memory import MemorySaver"
   ]
  },
  {
   "cell_type": "code",
   "execution_count": 3,
   "id": "88e8899e-6d20-467e-a990-ecf0ea6b1c91",
   "metadata": {},
   "outputs": [
    {
     "name": "stdin",
     "output_type": "stream",
     "text": [
      "OPENAI_API_KEY:  ········\n"
     ]
    }
   ],
   "source": [
    "def _set_env(var: str):\n",
    "    if not os.environ.get(var):\n",
    "        os.environ[var] = getpass.getpass(f\"{var}: \")\n",
    "\n",
    "_set_env(\"OPENAI_API_KEY\")"
   ]
  },
  {
   "cell_type": "code",
   "execution_count": 23,
   "id": "b42354e0-91c5-41ac-ab12-bdb073824d68",
   "metadata": {},
   "outputs": [],
   "source": [
    "srs_creator_gpt4o = ChatOpenAI(model=\"gpt-4o\", temperature=0)"
   ]
  },
  {
   "cell_type": "code",
   "execution_count": 24,
   "id": "bd2a3d2b-76f8-40dc-b740-b915c6eb0518",
   "metadata": {},
   "outputs": [],
   "source": [
    "software_string = \"\"\"Snake game\"\"\"\n",
    "software_reqs = \"\"\"- The game should be implemented in Python using the pygame module.\n",
    "- The player controls a snake with the goal of eating apples randomly scattered around the game area without hitting the borders of the area or itself.\n",
    "- If the player eats an apple, the sanke grows in size by 1 unit.\n",
    "- At any time, only 1 apple is present, if the player eats the apple, a new apple appears randomly, but it cannot appear on the snake.\n",
    "- If the player hits itself or the border of the area, the game ends.\n",
    "- The performance is measured by the number of consumed apples as a highscore.\n",
    "- The game plays at a consistent speed that is not too fast.\n",
    "- The game window has a resolution of 600x600.\n",
    "- The game is initialized with a snake having a head and one bodypart and a randomly placed apple.\n",
    "- The game starts when the player hits the space button.\n",
    "- The player can control the snake with the arrow keys.\n",
    "- The snake can go north, east, west, and south, but it cannot make 180 degree turns. For example, if the sanke goes north and wants to turn to south, it first has to turn either to west or east.\n",
    "- The game window should provide options to start a new game and exit the application.\n",
    "- The game area should be black, the head of the snake dark green, the body parts of the snake light green, and the apples red.\"\"\""
   ]
  },
  {
   "cell_type": "code",
   "execution_count": 25,
   "id": "3e43ce4b-1975-477d-8684-fdd46e30a0f7",
   "metadata": {},
   "outputs": [],
   "source": [
    "srs_system_prompt = \"\"\"You are an experienced software architect. You help with softwer requirements specification (SRS) creation.\n",
    "An SRS is a document containing specifications for a piece of software. It covers the following areas:\n",
    "- Problem background\n",
    "- Stakeholders / Users\n",
    "- Functional requirements\n",
    "- Performance requirements\n",
    "- Design constraints\n",
    "- External interfaces\n",
    "- Security requirements\n",
    "- Uses cases for the application\n",
    "- A glossary of terms\n",
    "\n",
    "A use case highlights the flow of the application to accomplish a particular purpose. It has the following format:\n",
    "- Use case\n",
    "    1. Actor\n",
    "    2. Purpose\n",
    "    3. Event flow\n",
    "    4. Special or exceptional requirements\"\"\"\n",
    "\n",
    "srs_initial_prompt = \"\"\"Please create an SRS for a {} with the following requirements:\n",
    "{}\n",
    "Provide as detailed an output as possible covering all aspects of the software.\"\"\".format(software_string, software_reqs)"
   ]
  },
  {
   "cell_type": "code",
   "execution_count": 26,
   "id": "6b4cd9fc-20b0-4abb-9e4c-4d1de909a2a2",
   "metadata": {},
   "outputs": [
    {
     "data": {
      "text/plain": [
       "AIMessage(content=\"# Software Requirements Specification (SRS) for Snake Game\\n\\n## 1. Problem Background\\nThe Snake game is a classic arcade game where the player controls a snake to eat apples that appear randomly on the game area. The objective is to consume as many apples as possible without colliding with the borders of the game area or the snake itself. The game is to be implemented in Python using the pygame module, providing a simple yet engaging experience for players.\\n\\n## 2. Stakeholders / Users\\n- **Players**: Individuals who will play the game for entertainment.\\n- **Developers**: Programmers responsible for implementing and maintaining the game.\\n- **Game Designers**: Individuals responsible for designing the game mechanics and user interface.\\n\\n## 3. Functional Requirements\\n- The game must be implemented using Python and the pygame module.\\n- The player controls a snake that moves around a 600x600 game area.\\n- The snake must be able to move in four directions: north, east, west, and south.\\n- The snake cannot make 180-degree turns directly.\\n- The game starts when the player presses the space button.\\n- The player uses arrow keys to control the snake's direction.\\n- An apple must be randomly placed on the game area at the start of the game and after each apple is consumed.\\n- The apple must not appear on the snake's body.\\n- The snake grows by one unit each time it consumes an apple.\\n- The game ends if the snake collides with the borders or itself.\\n- The game window must provide options to start a new game and exit the application.\\n- The game area must be black, the snake's head dark green, the body light green, and apples red.\\n\\n## 4. Performance Requirements\\n- The game must run at a consistent speed that is not too fast, ensuring smooth gameplay.\\n- The performance is measured by the number of apples consumed, which is recorded as the high score.\\n\\n## 5. Design Constraints\\n- The game must be developed using Python and the pygame module.\\n- The game window resolution must be 600x600 pixels.\\n- The game must maintain a consistent frame rate to ensure smooth gameplay.\\n\\n## 6. External Interfaces\\n- **User Interface**: The game window displays the game area, snake, and apple. It also provides options to start a new game and exit.\\n- **Input Devices**: The keyboard is used for controlling the snake (arrow keys) and starting the game (space button).\\n\\n## 7. Security Requirements\\n- The game should handle invalid inputs gracefully, ensuring no crashes occur due to unexpected user actions.\\n- The game should not allow any form of code injection or unauthorized access to the system.\\n\\n## 8. Use Cases for the Application\\n\\n### Use Case 1: Start Game\\n1. **Actor**: Player\\n2. **Purpose**: To initiate the game.\\n3. **Event Flow**:\\n   - The player opens the game application.\\n   - The player presses the space button to start the game.\\n   - The game initializes with a snake and a randomly placed apple.\\n4. **Special or Exceptional Requirements**: None\\n\\n### Use Case 2: Control Snake\\n1. **Actor**: Player\\n2. **Purpose**: To navigate the snake around the game area.\\n3. **Event Flow**:\\n   - The player uses the arrow keys to change the snake's direction.\\n   - The snake moves in the specified direction unless it results in a 180-degree turn.\\n4. **Special or Exceptional Requirements**: The snake cannot make 180-degree turns.\\n\\n### Use Case 3: Consume Apple\\n1. **Actor**: Player\\n2. **Purpose**: To increase the snake's size and score.\\n3. **Event Flow**:\\n   - The snake moves over an apple.\\n   - The apple is consumed, and the snake grows by one unit.\\n   - A new apple appears randomly on the game area.\\n4. **Special or Exceptional Requirements**: The new apple must not appear on the snake's body.\\n\\n### Use Case 4: End Game\\n1. **Actor**: Player\\n2. **Purpose**: To conclude the game session.\\n3. **Event Flow**:\\n   - The snake collides with the border or itself.\\n   - The game ends, and the player's score is displayed.\\n4. **Special or Exceptional Requirements**: None\\n\\n### Use Case 5: Exit Game\\n1. **Actor**: Player\\n2. **Purpose**: To close the game application.\\n3. **Event Flow**:\\n   - The player selects the exit option from the game window.\\n   - The game application closes.\\n4. **Special or Exceptional Requirements**: None\\n\\n## 9. Glossary of Terms\\n- **Snake**: The player's avatar in the game, which grows in size as it consumes apples.\\n- **Apple**: The item that the snake consumes to grow and increase the score.\\n- **Game Area**: The 600x600 pixel space where the game takes place.\\n- **Pygame**: A set of Python modules designed for writing video games.\\n- **Frame Rate**: The frequency at which consecutive images (frames) appear on the screen.\", additional_kwargs={'refusal': None}, response_metadata={'token_usage': {'completion_tokens': 1072, 'prompt_tokens': 469, 'total_tokens': 1541, 'completion_tokens_details': {'accepted_prediction_tokens': 0, 'audio_tokens': 0, 'reasoning_tokens': 0, 'rejected_prediction_tokens': 0}, 'prompt_tokens_details': {'audio_tokens': 0, 'cached_tokens': 0}}, 'model_name': 'gpt-4o-2024-08-06', 'system_fingerprint': 'fp_523b9b6e5f', 'finish_reason': 'stop', 'logprobs': None}, id='run-b8a049f2-b3ad-4d8d-991e-5137e871a37b-0', usage_metadata={'input_tokens': 469, 'output_tokens': 1072, 'total_tokens': 1541, 'input_token_details': {'audio': 0, 'cache_read': 0}, 'output_token_details': {'audio': 0, 'reasoning': 0}})"
      ]
     },
     "execution_count": 26,
     "metadata": {},
     "output_type": "execute_result"
    }
   ],
   "source": [
    "resp = srs_creator_gpt4o.invoke([SystemMessage(content=srs_system_prompt)] + [HumanMessage(content=srs_initial_prompt)])\n",
    "resp"
   ]
  },
  {
   "cell_type": "code",
   "execution_count": 27,
   "id": "c604fa93-6ea0-44ed-b6fb-191645df89f8",
   "metadata": {},
   "outputs": [],
   "source": [
    "class SRS_Validation(BaseModel):\n",
    "    validations: List[int] = Field(description=\"The validation scores between 1 and 5 for unambiguousness, understandability, correctness, verifiability.\")\n",
    "\n",
    "srs_validation_system_prompt = \"\"\"You are an experienced software specification creator. You help with validating software requirements specifications.\"\"\"\n",
    "\n",
    "srs_validation_initial_prompt = \"\"\"An SRS must be acceptable when it comes to the 4 key traits:\n",
    "- Unambiguity: a requirement is unambiguous if and only if it has only one possible interpretation.\n",
    "- Understandability: a requirement is understandable if all classes of SRS readers can easily comprehend its meaning with a minimal explanation.\n",
    "- Correctness: a requirements is correct if it accurately represents a required feature or function the system must process.\n",
    "- Verifiability: a requirement is verifiable if finite, cost-effective methods exist for verifying that it is satisfied by the built system.\n",
    "\n",
    "The SRS has the following structure:\n",
    "- Problem background\n",
    "- Stakeholders / Users\n",
    "- Functional requirements\n",
    "- Performance requirements\n",
    "- Design constraints\n",
    "- External interfaces\n",
    "- Security requirements\n",
    "- Uses cases for the application\n",
    "- A glossary of terms\n",
    "\n",
    "Please validate the input SRS regarding the 4 key traits and return list of scores for each between 1 and 5. The order of the traits is unambiguity, understandability, correctness, verifiability.\n",
    "SRS:\"\"\"\n",
    "\n",
    "srs_validation_prompt = resp.content"
   ]
  },
  {
   "cell_type": "code",
   "execution_count": 28,
   "id": "c5c380d6-239b-4919-9ce4-e58e821fcf0c",
   "metadata": {},
   "outputs": [],
   "source": [
    "srs_validator_gpt4o = ChatOpenAI(model=\"gpt-4o\", temperature=0).with_structured_output(SRS_Validation)"
   ]
  },
  {
   "cell_type": "code",
   "execution_count": 29,
   "id": "d6802937-920b-41e8-9823-cef5c3746958",
   "metadata": {},
   "outputs": [
    {
     "data": {
      "text/plain": [
       "SRS_Validation(validations=[4, 5, 5, 4])"
      ]
     },
     "execution_count": 29,
     "metadata": {},
     "output_type": "execute_result"
    }
   ],
   "source": [
    "validator_resp = srs_validator_gpt4o.invoke([SystemMessage(content=srs_validation_system_prompt)] +\n",
    "                                            [HumanMessage(content=srs_validation_initial_prompt)] +\n",
    "                                            [HumanMessage(content=srs_validation_prompt)])\n",
    "validator_resp"
   ]
  },
  {
   "cell_type": "code",
   "execution_count": 55,
   "id": "abd0a1b0-8a5f-41e5-80e4-e70233949c73",
   "metadata": {},
   "outputs": [],
   "source": [
    "class SRSGeneratorState(TypedDict):\n",
    "    messages: Annotated[List[AIMessage | HumanMessage | SystemMessage], add] \n",
    "    validations: SRS_Validation\n",
    "    srs: str\n",
    "    definitions: str\n",
    "    iterations: int"
   ]
  },
  {
   "cell_type": "code",
   "execution_count": 56,
   "id": "73d2a9cd-2f5c-4a0c-abd2-1f5a3215591b",
   "metadata": {},
   "outputs": [],
   "source": [
    "def generate_srs(state: SRSGeneratorState):\n",
    "\n",
    "    print(\"---GENERATING SRS---\")\n",
    "\n",
    "    iterations = state[\"iterations\"]\n",
    "    iterations += 1\n",
    "\n",
    "    srs_ai_message = srs_creator_gpt4o.invoke(state[\"messages\"])\n",
    "\n",
    "    return {\"messages\": [srs_ai_message], \"iterations\": iterations}"
   ]
  },
  {
   "cell_type": "code",
   "execution_count": 57,
   "id": "eab36003-9a8c-409c-b77b-88b711928baa",
   "metadata": {},
   "outputs": [],
   "source": [
    "def validate_srs(state: SRSGeneratorState):\n",
    "\n",
    "    print(\"---VALIDATING SRS---\")\n",
    "\n",
    "    srs_validation_prompt = state[\"messages\"][-1].content\n",
    "\n",
    "    validator_resp = srs_validator_gpt4o.invoke([SystemMessage(content=srs_validation_system_prompt)] +\n",
    "                                                [HumanMessage(content=srs_validation_initial_prompt)] +\n",
    "                                                [HumanMessage(content=srs_validation_prompt)])\n",
    "\n",
    "    update_message = \"\"\"The created SRS was validated by another LLM. The SRS is validated by scoring 4 key traits:\n",
    "    - Unambiguity: a requirement is unambiguous if and only if it has only one possible interpretation.\n",
    "    - Understandability: a requirement is understandable if all classes of SRS readers can easily comprehend its meaning with a minimal explanation.\n",
    "    - Correctness: a requirements is correct if it accurately represents a required feature or function the system must process.\n",
    "    - Verifiability: a requirement is verifiable if finite, cost-effective methods exist for verifying that it is satisfied by the built system.\n",
    "    The scores for each trait are between 1 and 5. The traits in this the order of above received the following scores: {}\n",
    "    Taking into consideration the scores, please rework the SRS in order to receive the score 5 for each trait.\"\"\".format(str(validator_resp.validations))\n",
    "\n",
    "    if sum(validator_resp.validations) != 20:\n",
    "        return {\"validations\": validator_resp, \"messages\": [HumanMessage(content=update_message)]}\n",
    "\n",
    "    return {\"validations\": validator_resp, \"srs\": srs_validation_prompt}"
   ]
  },
  {
   "cell_type": "code",
   "execution_count": 63,
   "id": "9b1c4fc6-c4ec-49cb-8158-1e6be0052bef",
   "metadata": {},
   "outputs": [],
   "source": [
    "def accept_srs(state: SRSGeneratorState):\n",
    "\n",
    "    if sum(state[\"validations\"].validations) == 20:\n",
    "        print(\"---SRS ACCEPTED---\")\n",
    "        with open(\"srs.txt\", \"w\") as file:\n",
    "            file.write(state[\"srs\"])\n",
    "        return \"generate_definitions\"\n",
    "    else:\n",
    "        print(\"---REWORK SRS---\")\n",
    "        print(state[\"validations\"].validations)\n",
    "        return \"generate_srs\""
   ]
  },
  {
   "cell_type": "code",
   "execution_count": 60,
   "id": "a967746d-2206-4a24-867d-a9102cd3d6e5",
   "metadata": {},
   "outputs": [],
   "source": [
    "def generate_definitions(state: SRSGeneratorState):\n",
    "\n",
    "    function_generator_gpt4o = ChatOpenAI(model=\"gpt-4o\", temperature=0)\n",
    "\n",
    "    function_generator_system_prompt = \"\"\"You are an experienced software architect. You help create class and function definitions based on a software\n",
    "    requirements specification (SRS).\"\"\"\n",
    "\n",
    "    function_generator_initial_prompt = \"\"\"Create class and function definitions based on the input SRS. Your solution should contain a list of classes\n",
    "    that will be present in the software. For every class list the attributes and functions. Indicate if a class is dervied from another class and note if\n",
    "    a module should be imported. A function header should contain the name of the function, the input parameters and the return value. Use type hint to indicate\n",
    "    the type of parameters. Also include a description of the class, the attributes, and the functions. Your solution will be used later to create the classes and\n",
    "    implement their functions. Structure your solution such a way that the result can be easily understood and used.\n",
    "    See the following example for structuring:\n",
    "    <class_name>\n",
    "        <attribute1>\n",
    "        <attribute2>\n",
    "        \n",
    "        <function1>\n",
    "        <function2>\n",
    "\n",
    "    Inspect the following SRS and create your solution.\n",
    "    SRS:\n",
    "    {}\n",
    "    \"\"\".format(state[\"srs\"])\n",
    "\n",
    "    function_generator_response = function_generator_gpt4o.invoke([SystemMessage(content=function_generator_system_prompt)] +\n",
    "                                                                  [HumanMessage(content=function_generator_initial_prompt)])\n",
    "\n",
    "    with open(\"definitions.txt\", \"w\") as file:\n",
    "        file.write(function_generator_response.content)\n",
    "\n",
    "    return {\"definitions\": function_generator_response.content}"
   ]
  },
  {
   "cell_type": "code",
   "execution_count": 64,
   "id": "ab62970e-6988-4d59-9e63-f3bae84f30c6",
   "metadata": {},
   "outputs": [
    {
     "data": {
      "image/png": "[encoded data removed]",
      "text/plain": [
       "<IPython.core.display.Image object>"
      ]
     },
     "metadata": {},
     "output_type": "display_data"
    }
   ],
   "source": [
    "srs_generator_builder = StateGraph(SRSGeneratorState)\n",
    "\n",
    "srs_generator_builder.add_node(\"generate_srs\", generate_srs)\n",
    "srs_generator_builder.add_node(\"validate_srs\", validate_srs)\n",
    "srs_generator_builder.add_node(\"generate_definitions\", generate_definitions)\n",
    "\n",
    "srs_generator_builder.add_edge(START, \"generate_srs\")\n",
    "srs_generator_builder.add_edge(\"generate_srs\", \"validate_srs\")\n",
    "srs_generator_builder.add_conditional_edges(\"validate_srs\", accept_srs, {\"generate_definitions\": \"generate_definitions\", \"generate_srs\": \"generate_srs\"})\n",
    "srs_generator_builder.add_edge(\"generate_definitions\", END)\n",
    "\n",
    "srs_generator_graph = srs_generator_builder.compile()\n",
    "\n",
    "display(Image(srs_generator_graph.get_graph(xray=1).draw_mermaid_png()))"
   ]
  },
  {
   "cell_type": "code",
   "execution_count": 65,
   "id": "944ca0c5-90ac-4e56-bed9-1b3317044e17",
   "metadata": {},
   "outputs": [
    {
     "name": "stdout",
     "output_type": "stream",
     "text": [
      "---GENERATING SRS---\n",
      "---VALIDATING SRS---\n",
      "---REWORK SRS---\n",
      "[4, 5, 5, 4]\n",
      "---GENERATING SRS---\n",
      "---VALIDATING SRS---\n",
      "---SRS ACCEPTED---\n"
     ]
    }
   ],
   "source": [
    "srs_result = srs_generator_graph.invoke({\"messages\": [SystemMessage(content=srs_system_prompt)] + [HumanMessage(content=srs_initial_prompt)],\n",
    "                                         \"iterations\": 0})"
   ]
  },
  {
   "cell_type": "code",
   "execution_count": 66,
   "id": "9a261911-060d-4137-9b1e-dbf4c4686a19",
   "metadata": {},
   "outputs": [
    {
     "data": {
      "text/plain": [
       "{'messages': [SystemMessage(content='You are an experienced software architect. You help with softwer requirements specification (SRS) creation.\\nAn SRS is a document containing specifications for a piece of software. It covers the following areas:\\n- Problem background\\n- Stakeholders / Users\\n- Functional requirements\\n- Performance requirements\\n- Design constraints\\n- External interfaces\\n- Security requirements\\n- Uses cases for the application\\n- A glossary of terms\\n\\nA use case highlights the flow of the application to accomplish a particular purpose. It has the following format:\\n- Use case\\n    1. Actor\\n    2. Purpose\\n    3. Event flow\\n    4. Special or exceptional requirements', additional_kwargs={}, response_metadata={}),\n",
       "  HumanMessage(content='Please create an SRS for a Snake game with the following requirements:\\n- The game should be implemented in Python using the pygame module.\\n- The player controls a snake with the goal of eating apples randomly scattered around the game area without hitting the borders of the area or itself.\\n- If the player eats an apple, the sanke grows in size by 1 unit.\\n- At any time, only 1 apple is present, if the player eats the apple, a new apple appears randomly, but it cannot appear on the snake.\\n- If the player hits itself or the border of the area, the game ends.\\n- The performance is measured by the number of consumed apples as a highscore.\\n- The game plays at a consistent speed that is not too fast.\\n- The game window has a resolution of 600x600.\\n- The game is initialized with a snake having a head and one bodypart and a randomly placed apple.\\n- The game starts when the player hits the space button.\\n- The player can control the snake with the arrow keys.\\n- The snake can go north, east, west, and south, but it cannot make 180 degree turns. For example, if the sanke goes north and wants to turn to south, it first has to turn either to west or east.\\n- The game window should provide options to start a new game and exit the application.\\n- The game area should be black, the head of the snake dark green, the body parts of the snake light green, and the apples red.\\nProvide as detailed an output as possible covering all aspects of the software.', additional_kwargs={}, response_metadata={}),\n",
       "  AIMessage(content=\"# Software Requirements Specification (SRS) for Snake Game\\n\\n## 1. Problem Background\\nThe Snake game is a classic arcade game where the player controls a snake to eat apples while avoiding collisions with the borders or itself. The objective is to consume as many apples as possible, which increases the snake's length and the game's difficulty. This SRS outlines the requirements for implementing the Snake game using Python and the pygame module.\\n\\n## 2. Stakeholders / Users\\n- **Players**: Individuals who will play the game for entertainment.\\n- **Developers**: Programmers responsible for implementing and maintaining the game.\\n- **Testers**: Individuals who will test the game to ensure it meets the specified requirements.\\n\\n## 3. Functional Requirements\\n- The game should be implemented using Python and the pygame module.\\n- The player controls a snake that moves around a 600x600 game area.\\n- The snake starts with a head and one body part.\\n- The player can start the game by pressing the space button.\\n- The player can control the snake using the arrow keys (up, down, left, right).\\n- The snake can move in four directions: north, east, west, and south.\\n- The snake cannot make 180-degree turns.\\n- An apple is randomly placed in the game area at the start and after each consumption.\\n- The apple cannot appear on the snake's body.\\n- The snake grows by one unit each time it eats an apple.\\n- The game ends if the snake collides with itself or the borders of the game area.\\n- The game window should provide options to start a new game and exit the application.\\n- The game area should be black, the snake's head dark green, the body parts light green, and the apples red.\\n\\n## 4. Performance Requirements\\n- The game should run at a consistent speed that is not too fast, ensuring smooth gameplay.\\n- The performance is measured by the number of apples consumed, which is recorded as the high score.\\n\\n## 5. Design Constraints\\n- The game must be developed using Python and the pygame module.\\n- The game window resolution must be 600x600 pixels.\\n- The game should be designed to run on standard desktop environments.\\n\\n## 6. External Interfaces\\n- **User Interface**: The game window displays the game area, snake, and apple. It includes options to start a new game and exit.\\n- **Input Devices**: The keyboard is used for controlling the snake (arrow keys) and starting the game (space button).\\n\\n## 7. Security Requirements\\n- The game should not require any network connectivity, minimizing security risks.\\n- The game should handle unexpected inputs gracefully to prevent crashes.\\n\\n## 8. Use Cases for the Application\\n\\n### Use Case 1: Start Game\\n1. **Actor**: Player\\n2. **Purpose**: To initiate the game.\\n3. **Event Flow**:\\n   - The player opens the game application.\\n   - The player presses the space button to start the game.\\n   - The game initializes with a snake and a randomly placed apple.\\n4. **Special or Exceptional Requirements**: None\\n\\n### Use Case 2: Control Snake\\n1. **Actor**: Player\\n2. **Purpose**: To navigate the snake around the game area.\\n3. **Event Flow**:\\n   - The player uses the arrow keys to change the snake's direction.\\n   - The snake moves in the specified direction unless it results in a 180-degree turn.\\n4. **Special or Exceptional Requirements**: The snake cannot make 180-degree turns.\\n\\n### Use Case 3: Eat Apple\\n1. **Actor**: Player\\n2. **Purpose**: To increase the snake's length and score.\\n3. **Event Flow**:\\n   - The snake moves over an apple.\\n   - The apple is consumed, and the snake grows by one unit.\\n   - A new apple appears randomly in the game area, not on the snake.\\n4. **Special or Exceptional Requirements**: None\\n\\n### Use Case 4: End Game\\n1. **Actor**: Player\\n2. **Purpose**: To conclude the game session.\\n3. **Event Flow**:\\n   - The snake collides with itself or the border.\\n   - The game ends, and the player's score is displayed.\\n4. **Special or Exceptional Requirements**: None\\n\\n### Use Case 5: Exit Game\\n1. **Actor**: Player\\n2. **Purpose**: To close the game application.\\n3. **Event Flow**:\\n   - The player selects the exit option from the game window.\\n   - The game application closes.\\n4. **Special or Exceptional Requirements**: None\\n\\n## 9. Glossary of Terms\\n- **Snake**: The player's character in the game, which grows in length by consuming apples.\\n- **Apple**: The item the snake consumes to grow and increase the score.\\n- **Game Area**: The 600x600 pixel window where the game takes place.\\n- **Pygame**: A Python library used for writing video games.\\n- **180-degree Turn**: A direct reversal of direction, which is not allowed for the snake.\", additional_kwargs={'refusal': None}, response_metadata={'token_usage': {'completion_tokens': 1063, 'prompt_tokens': 469, 'total_tokens': 1532, 'completion_tokens_details': {'accepted_prediction_tokens': 0, 'audio_tokens': 0, 'reasoning_tokens': 0, 'rejected_prediction_tokens': 0}, 'prompt_tokens_details': {'audio_tokens': 0, 'cached_tokens': 0}}, 'model_name': 'gpt-4o-2024-08-06', 'system_fingerprint': 'fp_523b9b6e5f', 'finish_reason': 'stop', 'logprobs': None}, id='run-3d7352fa-095d-4949-b7b6-fd6c6face764-0', usage_metadata={'input_tokens': 469, 'output_tokens': 1063, 'total_tokens': 1532, 'input_token_details': {'audio': 0, 'cache_read': 0}, 'output_token_details': {'audio': 0, 'reasoning': 0}}),\n",
       "  HumanMessage(content='The created SRS was validated by another LLM. The SRS is validated by scoring 4 key traits:\\n    - Unambiguity: a requirement is unambiguous if and only if it has only one possible interpretation.\\n    - Understandability: a requirement is understandable if all classes of SRS readers can easily comprehend its meaning with a minimal explanation.\\n    - Correctness: a requirements is correct if it accurately represents a required feature or function the system must process.\\n    - Verifiability: a requirement is verifiable if finite, cost-effective methods exist for verifying that it is satisfied by the built system.\\n    The scores for each trait are between 1 and 5. The traits in this the order of above received the following scores: [4, 5, 5, 4]\\n    Taking into consideration the scores, please rework the SRS in order to receive the score 5 for each trait.', additional_kwargs={}, response_metadata={}),\n",
       "  AIMessage(content=\"To improve the SRS and achieve a score of 5 for each trait, we need to address potential ambiguities, enhance clarity, ensure correctness, and improve verifiability. Below is the revised SRS:\\n\\n# Software Requirements Specification (SRS) for Snake Game\\n\\n## 1. Problem Background\\nThe Snake game is a classic arcade game where the player controls a snake to eat apples while avoiding collisions with the borders or itself. The objective is to consume as many apples as possible, which increases the snake's length and the game's difficulty. This SRS outlines the requirements for implementing the Snake game using Python and the pygame module.\\n\\n## 2. Stakeholders / Users\\n- **Players**: Individuals who will play the game for entertainment.\\n- **Developers**: Programmers responsible for implementing and maintaining the game.\\n- **Testers**: Individuals who will test the game to ensure it meets the specified requirements.\\n\\n## 3. Functional Requirements\\n1. **Implementation**: The game must be implemented using Python and the pygame module.\\n2. **Game Area**: The game area must be a 600x600 pixel window.\\n3. **Snake Initialization**: The snake must start with a head and one body part.\\n4. **Game Start**: The game must start when the player presses the space button.\\n5. **Snake Control**: The player must control the snake using the arrow keys (up, down, left, right).\\n6. **Movement Constraints**: The snake must move in four directions: north, east, west, and south. It must not make 180-degree turns.\\n7. **Apple Placement**: An apple must be randomly placed in the game area at the start and after each consumption. It must not appear on the snake's body.\\n8. **Snake Growth**: The snake must grow by one unit each time it eats an apple.\\n9. **Game Over Conditions**: The game must end if the snake collides with itself or the borders of the game area.\\n10. **Game Options**: The game window must provide options to start a new game and exit the application.\\n11. **Visual Design**: The game area must be black, the snake's head dark green, the body parts light green, and the apples red.\\n\\n## 4. Performance Requirements\\n- The game must run at a consistent speed of 10 frames per second to ensure smooth gameplay.\\n- The performance is measured by the number of apples consumed, which is recorded as the high score.\\n\\n## 5. Design Constraints\\n- The game must be developed using Python and the pygame module.\\n- The game window resolution must be 600x600 pixels.\\n- The game should be designed to run on standard desktop environments with at least 2GB of RAM and a 1GHz processor.\\n\\n## 6. External Interfaces\\n- **User Interface**: The game window displays the game area, snake, and apple. It includes options to start a new game and exit.\\n- **Input Devices**: The keyboard is used for controlling the snake (arrow keys) and starting the game (space button).\\n\\n## 7. Security Requirements\\n- The game must not require any network connectivity, minimizing security risks.\\n- The game must handle unexpected inputs gracefully to prevent crashes.\\n\\n## 8. Use Cases for the Application\\n\\n### Use Case 1: Start Game\\n1. **Actor**: Player\\n2. **Purpose**: To initiate the game.\\n3. **Event Flow**:\\n   - The player opens the game application.\\n   - The player presses the space button to start the game.\\n   - The game initializes with a snake and a randomly placed apple.\\n4. **Special or Exceptional Requirements**: None\\n\\n### Use Case 2: Control Snake\\n1. **Actor**: Player\\n2. **Purpose**: To navigate the snake around the game area.\\n3. **Event Flow**:\\n   - The player uses the arrow keys to change the snake's direction.\\n   - The snake moves in the specified direction unless it results in a 180-degree turn.\\n4. **Special or Exceptional Requirements**: The snake cannot make 180-degree turns.\\n\\n### Use Case 3: Eat Apple\\n1. **Actor**: Player\\n2. **Purpose**: To increase the snake's length and score.\\n3. **Event Flow**:\\n   - The snake moves over an apple.\\n   - The apple is consumed, and the snake grows by one unit.\\n   - A new apple appears randomly in the game area, not on the snake.\\n4. **Special or Exceptional Requirements**: None\\n\\n### Use Case 4: End Game\\n1. **Actor**: Player\\n2. **Purpose**: To conclude the game session.\\n3. **Event Flow**:\\n   - The snake collides with itself or the border.\\n   - The game ends, and the player's score is displayed.\\n4. **Special or Exceptional Requirements**: None\\n\\n### Use Case 5: Exit Game\\n1. **Actor**: Player\\n2. **Purpose**: To close the game application.\\n3. **Event Flow**:\\n   - The player selects the exit option from the game window.\\n   - The game application closes.\\n4. **Special or Exceptional Requirements**: None\\n\\n## 9. Glossary of Terms\\n- **Snake**: The player's character in the game, which grows in length by consuming apples.\\n- **Apple**: The item the snake consumes to grow and increase the score.\\n- **Game Area**: The 600x600 pixel window where the game takes place.\\n- **Pygame**: A Python library used for writing video games.\\n- **180-degree Turn**: A direct reversal of direction, which is not allowed for the snake.\\n\\n### Improvements Made:\\n- **Unambiguity**: Clarified requirements to ensure only one possible interpretation, such as specifying the frame rate for consistent speed.\\n- **Understandability**: Simplified language and added specific details to make the requirements easily comprehensible.\\n- **Correctness**: Ensured all requirements accurately represent the intended features and functions.\\n- **Verifiability**: Provided specific, measurable criteria for verifying each requirement, such as the frame rate and system specifications.\", additional_kwargs={'refusal': None}, response_metadata={'token_usage': {'completion_tokens': 1282, 'prompt_tokens': 1727, 'total_tokens': 3009, 'completion_tokens_details': {'accepted_prediction_tokens': 0, 'audio_tokens': 0, 'reasoning_tokens': 0, 'rejected_prediction_tokens': 0}, 'prompt_tokens_details': {'audio_tokens': 0, 'cached_tokens': 1408}}, 'model_name': 'gpt-4o-2024-08-06', 'system_fingerprint': 'fp_523b9b6e5f', 'finish_reason': 'stop', 'logprobs': None}, id='run-0088c13c-b11f-4238-8dde-29f2f8a02c61-0', usage_metadata={'input_tokens': 1727, 'output_tokens': 1282, 'total_tokens': 3009, 'input_token_details': {'audio': 0, 'cache_read': 1408}, 'output_token_details': {'audio': 0, 'reasoning': 0}})],\n",
       " 'validations': SRS_Validation(validations=[5, 5, 5, 5]),\n",
       " 'srs': \"To improve the SRS and achieve a score of 5 for each trait, we need to address potential ambiguities, enhance clarity, ensure correctness, and improve verifiability. Below is the revised SRS:\\n\\n# Software Requirements Specification (SRS) for Snake Game\\n\\n## 1. Problem Background\\nThe Snake game is a classic arcade game where the player controls a snake to eat apples while avoiding collisions with the borders or itself. The objective is to consume as many apples as possible, which increases the snake's length and the game's difficulty. This SRS outlines the requirements for implementing the Snake game using Python and the pygame module.\\n\\n## 2. Stakeholders / Users\\n- **Players**: Individuals who will play the game for entertainment.\\n- **Developers**: Programmers responsible for implementing and maintaining the game.\\n- **Testers**: Individuals who will test the game to ensure it meets the specified requirements.\\n\\n## 3. Functional Requirements\\n1. **Implementation**: The game must be implemented using Python and the pygame module.\\n2. **Game Area**: The game area must be a 600x600 pixel window.\\n3. **Snake Initialization**: The snake must start with a head and one body part.\\n4. **Game Start**: The game must start when the player presses the space button.\\n5. **Snake Control**: The player must control the snake using the arrow keys (up, down, left, right).\\n6. **Movement Constraints**: The snake must move in four directions: north, east, west, and south. It must not make 180-degree turns.\\n7. **Apple Placement**: An apple must be randomly placed in the game area at the start and after each consumption. It must not appear on the snake's body.\\n8. **Snake Growth**: The snake must grow by one unit each time it eats an apple.\\n9. **Game Over Conditions**: The game must end if the snake collides with itself or the borders of the game area.\\n10. **Game Options**: The game window must provide options to start a new game and exit the application.\\n11. **Visual Design**: The game area must be black, the snake's head dark green, the body parts light green, and the apples red.\\n\\n## 4. Performance Requirements\\n- The game must run at a consistent speed of 10 frames per second to ensure smooth gameplay.\\n- The performance is measured by the number of apples consumed, which is recorded as the high score.\\n\\n## 5. Design Constraints\\n- The game must be developed using Python and the pygame module.\\n- The game window resolution must be 600x600 pixels.\\n- The game should be designed to run on standard desktop environments with at least 2GB of RAM and a 1GHz processor.\\n\\n## 6. External Interfaces\\n- **User Interface**: The game window displays the game area, snake, and apple. It includes options to start a new game and exit.\\n- **Input Devices**: The keyboard is used for controlling the snake (arrow keys) and starting the game (space button).\\n\\n## 7. Security Requirements\\n- The game must not require any network connectivity, minimizing security risks.\\n- The game must handle unexpected inputs gracefully to prevent crashes.\\n\\n## 8. Use Cases for the Application\\n\\n### Use Case 1: Start Game\\n1. **Actor**: Player\\n2. **Purpose**: To initiate the game.\\n3. **Event Flow**:\\n   - The player opens the game application.\\n   - The player presses the space button to start the game.\\n   - The game initializes with a snake and a randomly placed apple.\\n4. **Special or Exceptional Requirements**: None\\n\\n### Use Case 2: Control Snake\\n1. **Actor**: Player\\n2. **Purpose**: To navigate the snake around the game area.\\n3. **Event Flow**:\\n   - The player uses the arrow keys to change the snake's direction.\\n   - The snake moves in the specified direction unless it results in a 180-degree turn.\\n4. **Special or Exceptional Requirements**: The snake cannot make 180-degree turns.\\n\\n### Use Case 3: Eat Apple\\n1. **Actor**: Player\\n2. **Purpose**: To increase the snake's length and score.\\n3. **Event Flow**:\\n   - The snake moves over an apple.\\n   - The apple is consumed, and the snake grows by one unit.\\n   - A new apple appears randomly in the game area, not on the snake.\\n4. **Special or Exceptional Requirements**: None\\n\\n### Use Case 4: End Game\\n1. **Actor**: Player\\n2. **Purpose**: To conclude the game session.\\n3. **Event Flow**:\\n   - The snake collides with itself or the border.\\n   - The game ends, and the player's score is displayed.\\n4. **Special or Exceptional Requirements**: None\\n\\n### Use Case 5: Exit Game\\n1. **Actor**: Player\\n2. **Purpose**: To close the game application.\\n3. **Event Flow**:\\n   - The player selects the exit option from the game window.\\n   - The game application closes.\\n4. **Special or Exceptional Requirements**: None\\n\\n## 9. Glossary of Terms\\n- **Snake**: The player's character in the game, which grows in length by consuming apples.\\n- **Apple**: The item the snake consumes to grow and increase the score.\\n- **Game Area**: The 600x600 pixel window where the game takes place.\\n- **Pygame**: A Python library used for writing video games.\\n- **180-degree Turn**: A direct reversal of direction, which is not allowed for the snake.\\n\\n### Improvements Made:\\n- **Unambiguity**: Clarified requirements to ensure only one possible interpretation, such as specifying the frame rate for consistent speed.\\n- **Understandability**: Simplified language and added specific details to make the requirements easily comprehensible.\\n- **Correctness**: Ensured all requirements accurately represent the intended features and functions.\\n- **Verifiability**: Provided specific, measurable criteria for verifying each requirement, such as the frame rate and system specifications.\",\n",
       " 'definitions': 'To implement the Snake Game as described in the SRS, we will define several classes and functions. The primary classes will include `Game`, `Snake`, `Apple`, and `GameWindow`. Each class will encapsulate specific functionalities and attributes necessary for the game. The `pygame` module will be imported to handle graphics and user input.\\n\\n```python\\nimport pygame\\nimport random\\nfrom typing import List, Tuple\\n\\nclass Game:\\n    \"\"\"\\n    Manages the overall game state, including initialization, game loop, and game over conditions.\\n    \"\"\"\\n    window: \\'GameWindow\\'\\n    snake: \\'Snake\\'\\n    apple: \\'Apple\\'\\n    running: bool\\n    score: int\\n\\n    def __init__(self):\\n        \"\"\"\\n        Initializes the game components and sets the initial state.\\n        \"\"\"\\n        pass\\n\\n    def start_game(self) -> None:\\n        \"\"\"\\n        Starts the game loop and handles user input and game updates.\\n        \"\"\"\\n        pass\\n\\n    def check_collision(self) -> bool:\\n        \"\"\"\\n        Checks for collisions with the snake itself or the game borders.\\n        Returns True if a collision occurs, otherwise False.\\n        \"\"\"\\n        pass\\n\\n    def end_game(self) -> None:\\n        \"\"\"\\n        Ends the game and displays the final score.\\n        \"\"\"\\n        pass\\n\\n    def reset_game(self) -> None:\\n        \"\"\"\\n        Resets the game state to start a new game.\\n        \"\"\"\\n        pass\\n\\n\\nclass Snake:\\n    \"\"\"\\n    Represents the snake in the game, including its position, movement, and growth.\\n    \"\"\"\\n    body: List[Tuple[int, int]]\\n    direction: Tuple[int, int]\\n\\n    def __init__(self):\\n        \"\"\"\\n        Initializes the snake with a head and one body part.\\n        \"\"\"\\n        pass\\n\\n    def move(self) -> None:\\n        \"\"\"\\n        Moves the snake in the current direction.\\n        \"\"\"\\n        pass\\n\\n    def change_direction(self, new_direction: Tuple[int, int]) -> None:\\n        \"\"\"\\n        Changes the snake\\'s direction if the new direction is not a 180-degree turn.\\n        \"\"\"\\n        pass\\n\\n    def grow(self) -> None:\\n        \"\"\"\\n        Increases the snake\\'s length by one unit.\\n        \"\"\"\\n        pass\\n\\n\\nclass Apple:\\n    \"\"\"\\n    Represents an apple in the game, including its position.\\n    \"\"\"\\n    position: Tuple[int, int]\\n\\n    def __init__(self):\\n        \"\"\"\\n        Initializes the apple at a random position not occupied by the snake.\\n        \"\"\"\\n        pass\\n\\n    def relocate(self, snake_body: List[Tuple[int, int]]) -> None:\\n        \"\"\"\\n        Relocates the apple to a new random position not occupied by the snake.\\n        \"\"\"\\n        pass\\n\\n\\nclass GameWindow:\\n    \"\"\"\\n    Manages the game window, including rendering the game area, snake, and apple.\\n    \"\"\"\\n    width: int = 600\\n    height: int = 600\\n    screen: pygame.Surface\\n\\n    def __init__(self):\\n        \"\"\"\\n        Initializes the game window with the specified dimensions.\\n        \"\"\"\\n        pass\\n\\n    def render(self, snake: \\'Snake\\', apple: \\'Apple\\') -> None:\\n        \"\"\"\\n        Renders the game area, snake, and apple on the screen.\\n        \"\"\"\\n        pass\\n\\n    def display_score(self, score: int) -> None:\\n        \"\"\"\\n        Displays the current score on the game window.\\n        \"\"\"\\n        pass\\n\\n    def show_game_over(self) -> None:\\n        \"\"\"\\n        Displays the game over message and final score.\\n        \"\"\"\\n        pass\\n```\\n\\n### Class Descriptions:\\n\\n- **Game**: Manages the overall game state, including initialization, game loop, and game over conditions. It handles user input and updates the game state accordingly.\\n  - **Attributes**: `window`, `snake`, `apple`, `running`, `score`\\n  - **Functions**: `__init__`, `start_game`, `check_collision`, `end_game`, `reset_game`\\n\\n- **Snake**: Represents the snake in the game, including its position, movement, and growth.\\n  - **Attributes**: `body`, `direction`\\n  - **Functions**: `__init__`, `move`, `change_direction`, `grow`\\n\\n- **Apple**: Represents an apple in the game, including its position.\\n  - **Attributes**: `position`\\n  - **Functions**: `__init__`, `relocate`\\n\\n- **GameWindow**: Manages the game window, including rendering the game area, snake, and apple.\\n  - **Attributes**: `width`, `height`, `screen`\\n  - **Functions**: `__init__`, `render`, `display_score`, `show_game_over`\\n\\n### Module:\\n- **pygame**: Required for handling graphics and user input.',\n",
       " 'iterations': 2}"
      ]
     },
     "execution_count": 66,
     "metadata": {},
     "output_type": "execute_result"
    }
   ],
   "source": [
    "srs_result"
   ]
  },
  {
   "cell_type": "code",
   "execution_count": 45,
   "id": "62b27fc0-713f-40a8-af9f-54ff96f98dea",
   "metadata": {},
   "outputs": [],
   "source": []
  },
  {
   "cell_type": "code",
   "execution_count": null,
   "id": "628c1cbc-7528-4c95-ab21-0ec76136d091",
   "metadata": {},
   "outputs": [],
   "source": []
  }
 ],
 "metadata": {
  "kernelspec": {
   "display_name": "Python 3 (ipykernel)",
   "language": "python",
   "name": "python3"
  },
  "language_info": {
   "codemirror_mode": {
    "name": "ipython",
    "version": 3
   },
   "file_extension": ".py",
   "mimetype": "text/x-python",
   "name": "python",
   "nbconvert_exporter": "python",
   "pygments_lexer": "ipython3",
   "version": "3.13.1"
  }
 },
 "nbformat": 4,
 "nbformat_minor": 5
}
