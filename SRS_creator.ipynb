{
 "cells": [
  {
   "cell_type": "code",
   "execution_count": 1,
   "id": "3b6cb076-1d64-4684-9044-7d14df0986cd",
   "metadata": {},
   "outputs": [
    {
     "name": "stdout",
     "output_type": "stream",
     "text": [
      "Note: you may need to restart the kernel to use updated packages.\n"
     ]
    },
    {
     "name": "stderr",
     "output_type": "stream",
     "text": [
      "\n",
      "[notice] A new release of pip is available: 24.3.1 -> 25.0.1\n",
      "[notice] To update, run: python.exe -m pip install --upgrade pip\n"
     ]
    }
   ],
   "source": [
    "%pip install --quiet -U langgraph langchain_openai langchain_community langchain_core"
   ]
  },
  {
   "cell_type": "code",
   "execution_count": 2,
   "id": "3b82a540-f4af-4197-87ac-6e43a832e8f6",
   "metadata": {},
   "outputs": [],
   "source": [
    "import os, getpass\n",
    "\n",
    "from pydantic import BaseModel, Field\n",
    "from pydantic_core import ValidationError\n",
    "from typing import List, Annotated\n",
    "from typing_extensions import TypedDict\n",
    "from operator import add\n",
    "\n",
    "from langchain_openai import ChatOpenAI\n",
    "from langchain_core.messages import AIMessage, HumanMessage, SystemMessage\n",
    "\n",
    "from IPython.display import Image, display\n",
    "from langgraph.graph import START, END, StateGraph\n",
    "from langgraph.checkpoint.memory import MemorySaver"
   ]
  },
  {
   "cell_type": "code",
   "execution_count": 3,
   "id": "88e8899e-6d20-467e-a990-ecf0ea6b1c91",
   "metadata": {},
   "outputs": [
    {
     "name": "stdin",
     "output_type": "stream",
     "text": [
      "OPENAI_API_KEY:  ········\n"
     ]
    }
   ],
   "source": [
    "def _set_env(var: str):\n",
    "    if not os.environ.get(var):\n",
    "        os.environ[var] = getpass.getpass(f\"{var}: \")\n",
    "\n",
    "_set_env(\"OPENAI_API_KEY\")"
   ]
  },
  {
   "cell_type": "code",
   "execution_count": 4,
   "id": "b42354e0-91c5-41ac-ab12-bdb073824d68",
   "metadata": {},
   "outputs": [],
   "source": [
    "srs_creator_gpt4o = ChatOpenAI(model=\"gpt-4o\", temperature=0)"
   ]
  },
  {
   "cell_type": "code",
   "execution_count": 5,
   "id": "bd2a3d2b-76f8-40dc-b740-b915c6eb0518",
   "metadata": {},
   "outputs": [],
   "source": [
    "software_string = \"\"\"Snake game\"\"\"\n",
    "software_reqs = \"\"\"- The game should be implemented in Python using the pygame module.\n",
    "- The player controls a snake with the goal of eating apples randomly scattered around the game area without hitting the borders of the area or itself.\n",
    "- If the player eats an apple, the snake grows in size by 1 unit.\n",
    "- At any time, only 1 apple is present, if the player eats the apple, a new apple appears randomly, but it cannot appear on the snake.\n",
    "- If the player hits itself or the border of the area, the game ends.\n",
    "- The performance is measured by the number of consumed apples as a highscore.\n",
    "- The game plays at a consistent speed that is not too fast.\n",
    "- The game window has a resolution of 600x600.\n",
    "- The game is initialized with a snake having a head and one bodypart and a randomly placed apple.\n",
    "- The game starts when the player hits the space button.\n",
    "- The player can control the snake with the arrow keys.\n",
    "- The snake can go north, east, west, and south, but it cannot make 180 degree turns. For example, if the sanke goes north and wants to turn to south, it first has to turn either to west or east.\n",
    "- The game window should provide options to start a new game and exit the application.\n",
    "- The game area should be black, the head of the snake dark green, the body parts of the snake light green, and the apples red.\"\"\""
   ]
  },
  {
   "cell_type": "code",
   "execution_count": 6,
   "id": "3e43ce4b-1975-477d-8684-fdd46e30a0f7",
   "metadata": {},
   "outputs": [],
   "source": [
    "srs_system_prompt = \"\"\"You are an experienced software architect. You help with softwer requirements specification (SRS) creation.\n",
    "An SRS is a document containing specifications for a piece of software. It covers the following areas:\n",
    "- Problem background\n",
    "- Stakeholders / Users\n",
    "- Functional requirements\n",
    "- Performance requirements\n",
    "- Design constraints\n",
    "- External interfaces\n",
    "- Security requirements\n",
    "- Uses cases for the application\n",
    "- A glossary of terms\n",
    "\n",
    "A use case highlights the flow of the application to accomplish a particular purpose. It has the following format:\n",
    "- Use case\n",
    "    1. Actor\n",
    "    2. Purpose\n",
    "    3. Event flow\n",
    "    4. Special or exceptional requirements\"\"\"\n",
    "\n",
    "srs_initial_prompt = \"\"\"Please create an SRS for a {} with the following requirements:\n",
    "{}\n",
    "Provide as detailed an output as possible covering all aspects of the software.\"\"\".format(software_string, software_reqs)"
   ]
  },
  {
   "cell_type": "code",
   "execution_count": 7,
   "id": "c83a84dc-ac36-4d7e-80df-92a9825420d1",
   "metadata": {},
   "outputs": [],
   "source": [
    "def log_validation(validation: List[int]):\n",
    "    with open('logs/specification.txt', 'a') as f:\n",
    "        f.write(f'{validation}\\n')"
   ]
  },
  {
   "cell_type": "code",
   "execution_count": 8,
   "id": "c604fa93-6ea0-44ed-b6fb-191645df89f8",
   "metadata": {},
   "outputs": [],
   "source": [
    "class SRS_Validation(BaseModel):\n",
    "    validations: List[int] = Field(description=\"The validation scores between 1 and 5 for unambiguousness, understandability, correctness, verifiability.\")\n",
    "\n",
    "srs_validation_system_prompt = \"\"\"You are an experienced software specification creator. You help with validating software requirements specifications.\"\"\"\n",
    "\n",
    "srs_validation_initial_prompt = \"\"\"An SRS must be acceptable when it comes to the 4 key traits:\n",
    "- Unambiguity: a requirement is unambiguous if and only if it has only one possible interpretation.\n",
    "- Understandability: a requirement is understandable if all classes of SRS readers can easily comprehend its meaning with a minimal explanation.\n",
    "- Correctness: a requirements is correct if it accurately represents a required feature or function the system must process.\n",
    "- Verifiability: a requirement is verifiable if finite, cost-effective methods exist for verifying that it is satisfied by the built system.\n",
    "\n",
    "The SRS has the following structure:\n",
    "- Problem background\n",
    "- Stakeholders / Users\n",
    "- Functional requirements\n",
    "- Performance requirements\n",
    "- Design constraints\n",
    "- External interfaces\n",
    "- Security requirements\n",
    "- Uses cases for the application\n",
    "- A glossary of terms\n",
    "\n",
    "Please validate the input SRS regarding the 4 key traits and return list of scores for each between 1 and 5. The order of the traits is unambiguity, understandability, correctness, verifiability.\n",
    "SRS:\"\"\"\n",
    "\n",
    "#srs_validation_prompt = resp.content"
   ]
  },
  {
   "cell_type": "code",
   "execution_count": 9,
   "id": "c5c380d6-239b-4919-9ce4-e58e821fcf0c",
   "metadata": {},
   "outputs": [],
   "source": [
    "srs_validator_gpt4o = ChatOpenAI(model=\"gpt-4o\", temperature=0).with_structured_output(SRS_Validation)"
   ]
  },
  {
   "cell_type": "code",
   "execution_count": 10,
   "id": "abd0a1b0-8a5f-41e5-80e4-e70233949c73",
   "metadata": {},
   "outputs": [],
   "source": [
    "class SRSGeneratorState(TypedDict):\n",
    "    messages: Annotated[List[AIMessage | HumanMessage | SystemMessage], add] \n",
    "    validations: SRS_Validation\n",
    "    srs: str\n",
    "    dds: str\n",
    "    structure: str\n",
    "    iterations: int"
   ]
  },
  {
   "cell_type": "code",
   "execution_count": 11,
   "id": "73d2a9cd-2f5c-4a0c-abd2-1f5a3215591b",
   "metadata": {},
   "outputs": [],
   "source": [
    "def generate_srs(state: SRSGeneratorState):\n",
    "\n",
    "    print(\"---GENERATING SRS---\")\n",
    "\n",
    "    iterations = state[\"iterations\"]\n",
    "    iterations += 1\n",
    "\n",
    "    srs_ai_message = srs_creator_gpt4o.invoke(state[\"messages\"])\n",
    "\n",
    "    return {\"messages\": [srs_ai_message], \"iterations\": iterations}"
   ]
  },
  {
   "cell_type": "code",
   "execution_count": 12,
   "id": "eab36003-9a8c-409c-b77b-88b711928baa",
   "metadata": {},
   "outputs": [],
   "source": [
    "def validate_srs(state: SRSGeneratorState):\n",
    "\n",
    "    print(\"---VALIDATING SRS---\")\n",
    "\n",
    "    srs_validation_prompt = state[\"messages\"][-1].content\n",
    "\n",
    "    validator_resp = srs_validator_gpt4o.invoke([SystemMessage(content=srs_validation_system_prompt)] +\n",
    "                                                [HumanMessage(content=srs_validation_initial_prompt)] +\n",
    "                                                [HumanMessage(content=srs_validation_prompt)])\n",
    "\n",
    "    update_message = \"\"\"The created SRS was validated by another LLM. The SRS is validated by scoring 4 key traits:\n",
    "    - Unambiguity: a requirement is unambiguous if and only if it has only one possible interpretation.\n",
    "    - Understandability: a requirement is understandable if all classes of SRS readers can easily comprehend its meaning with a minimal explanation.\n",
    "    - Correctness: a requirements is correct if it accurately represents a required feature or function the system must process.\n",
    "    - Verifiability: a requirement is verifiable if finite, cost-effective methods exist for verifying that it is satisfied by the built system.\n",
    "    The scores for each trait are between 1 and 5. The traits in this the order of above received the following scores: {}\n",
    "    Taking into consideration the scores, please rework the SRS in order to receive the score 5 for each trait.\"\"\".format(str(validator_resp.validations))\n",
    "\n",
    "    if sum(validator_resp.validations) != 20:\n",
    "        return {\"validations\": validator_resp, \"messages\": [HumanMessage(content=update_message)]}\n",
    "\n",
    "    return {\"validations\": validator_resp, \"srs\": srs_validation_prompt}"
   ]
  },
  {
   "cell_type": "code",
   "execution_count": 13,
   "id": "9b1c4fc6-c4ec-49cb-8158-1e6be0052bef",
   "metadata": {},
   "outputs": [],
   "source": [
    "def accept_srs(state: SRSGeneratorState):\n",
    "    log_validation(state[\"validations\"])\n",
    "\n",
    "    if sum(state[\"validations\"].validations) == 20:\n",
    "        print(\"---SRS ACCEPTED---\")\n",
    "        with open(\"srs.txt\", \"w\") as file:\n",
    "            file.write(state[\"srs\"])\n",
    "        return \"generate_dds\"\n",
    "    else:\n",
    "        print(\"---REWORK SRS---\")\n",
    "        print(state[\"validations\"].validations)\n",
    "        return \"generate_srs\""
   ]
  },
  {
   "cell_type": "code",
   "execution_count": 14,
   "id": "a967746d-2206-4a24-867d-a9102cd3d6e5",
   "metadata": {},
   "outputs": [],
   "source": [
    "def generate_dds(state: SRSGeneratorState):\n",
    "\n",
    "    function_generator_gpt4o = ChatOpenAI(model=\"gpt-4o\", temperature=0)\n",
    "\n",
    "    function_generator_system_prompt = \"\"\"You are an experienced software architect. You help create class and function definitions based on a software\n",
    "    requirements specification (SRS).\"\"\"\n",
    "\n",
    "    function_generator_initial_prompt = \"\"\"Create class and function definitions based on the input SRS. Your solution should contain a list of classes\n",
    "    that will be present in the software. For every class list the attributes and functions. Indicate if a class is dervied from another class and note if\n",
    "    a module should be imported. A function header should contain the name of the function, the input parameters and the return value. Use type hint to indicate\n",
    "    the type of parameters. Also include a description of the class, the attributes, and the functions. Your solution will be used later to create the classes and\n",
    "    implement their functions. Also create a pseudocode for the functions. Use a common style and markers for all pseudocodes. Structure your solution such a way\n",
    "    that the result can be easily understood and used.\n",
    "    See the following example for structuring:\n",
    "    <class_name>\n",
    "        <attribute1> : <type_of_attribute1> : <description_of_attribute1>\n",
    "        <attribute2> : <type_of_attribute2> : <description_of_attribute2>\n",
    "        \n",
    "        <function1> : <description_of_function1>\n",
    "        <pseudocode_of_function1>\n",
    "        <function2> : <description_of_function2>\n",
    "        <pseudocode_of_function2>\n",
    "\n",
    "    Inspect the following SRS and create your solution.\n",
    "    SRS:\n",
    "    {}\n",
    "    \"\"\".format(state[\"srs\"])\n",
    "\n",
    "    print('---GENERATE DDS---')\n",
    "\n",
    "    function_generator_response = function_generator_gpt4o.invoke([SystemMessage(content=function_generator_system_prompt)] +\n",
    "                                                                  [HumanMessage(content=function_generator_initial_prompt)])\n",
    "\n",
    "    with open(\"dds.txt\", \"w\") as file:\n",
    "        file.write(function_generator_response.content)\n",
    "\n",
    "    return {\"dds\": function_generator_response.content}"
   ]
  },
  {
   "cell_type": "code",
   "execution_count": 15,
   "id": "107729df-4719-4213-b82b-e069a9f803a8",
   "metadata": {},
   "outputs": [],
   "source": [
    "def generate_project_structure(state: SRSGeneratorState):\n",
    "\n",
    "    structure_generator_gpt4o = ChatOpenAI(model=\"gpt-4o\", temperature=0)\n",
    "\n",
    "    structure_generator_system_prompt = \"\"\"You are an experienced software architect who are responsible for creating the project structure of a software.\"\"\"\n",
    "\n",
    "    structure_generator_initial_prompt = \"\"\"Help me create a project structure for a software. As input, you are provided a software requirements specification\n",
    "    (SRS) and a design documentation specification (DDS). The DDS includes the class and function definitions. The project is created in Python. Create a project\n",
    "    structure that is suitable for Python projects. Take into consideration the following criteria:\n",
    "    - The entire project should be in a parent folder\n",
    "    - Include a folder for test files\n",
    "    - Name the files according to best practices\n",
    "    - The project will be pushed to a git-based repository, include the necessary files in the structure\n",
    "    - The project will be run in a Python virtual environment, include the necessary folders and files in the structure\n",
    "    You can assume that the necessary Python version is available in the development environment.\n",
    "    Create the project structure as follows:\n",
    "    /<project parent folder>\n",
    "        /<folder1>\n",
    "        /<folder2>\n",
    "        <file1>\n",
    "        <file2>\n",
    "    Also include a steplist that the user can follow to create the project structure. Include terminal commands at steps where it can help the user,\n",
    "    for example, creating the virtual environment, or installing the dependencies. Create commands for Linux and Windows as well.\n",
    "    SRS:\n",
    "    {}\n",
    "    DDS:\n",
    "    {}\"\"\".format(state[\"srs\"], state[\"dds\"])\n",
    "\n",
    "    print('---GENERATE PROJECT STRUCTURE---')\n",
    "\n",
    "    structure_generator_response = structure_generator_gpt4o.invoke([SystemMessage(content=structure_generator_system_prompt)] +\n",
    "                                                                    [HumanMessage(content=structure_generator_initial_prompt)])\n",
    "\n",
    "    with open(\"structure.txt\", \"w\") as file:\n",
    "        file.write(structure_generator_response.content)\n",
    "\n",
    "    return {\"structure\": structure_generator_response.content}"
   ]
  },
  {
   "cell_type": "code",
   "execution_count": 16,
   "id": "ab62970e-6988-4d59-9e63-f3bae84f30c6",
   "metadata": {},
   "outputs": [
    {
     "data": {
      "image/png": "[encoded data removed]",
      "text/plain": [
       "<IPython.core.display.Image object>"
      ]
     },
     "metadata": {},
     "output_type": "display_data"
    }
   ],
   "source": [
    "srs_generator_builder = StateGraph(SRSGeneratorState)\n",
    "\n",
    "srs_generator_builder.add_node(\"generate_srs\", generate_srs)\n",
    "srs_generator_builder.add_node(\"validate_srs\", validate_srs)\n",
    "srs_generator_builder.add_node(\"generate_dds\", generate_dds)\n",
    "srs_generator_builder.add_node(\"generate_project_structure\", generate_project_structure)\n",
    "\n",
    "srs_generator_builder.add_edge(START, \"generate_srs\")\n",
    "srs_generator_builder.add_edge(\"generate_srs\", \"validate_srs\")\n",
    "srs_generator_builder.add_conditional_edges(\"validate_srs\", accept_srs, {\"generate_dds\": \"generate_dds\", \"generate_srs\": \"generate_srs\"})\n",
    "srs_generator_builder.add_edge(\"generate_dds\", \"generate_project_structure\")\n",
    "srs_generator_builder.add_edge(\"generate_project_structure\", END)\n",
    "\n",
    "srs_generator_graph = srs_generator_builder.compile()\n",
    "\n",
    "display(Image(srs_generator_graph.get_graph(xray=1).draw_mermaid_png()))"
   ]
  },
  {
   "cell_type": "code",
   "execution_count": 26,
   "id": "944ca0c5-90ac-4e56-bed9-1b3317044e17",
   "metadata": {},
   "outputs": [
    {
     "name": "stdout",
     "output_type": "stream",
     "text": [
      "---GENERATING SRS---\n",
      "---VALIDATING SRS---\n",
      "---REWORK SRS---\n",
      "[4, 5, 5, 4]\n",
      "---GENERATING SRS---\n",
      "---VALIDATING SRS---\n",
      "---SRS ACCEPTED---\n",
      "---GENERATE DDS---\n",
      "---GENERATE PROJECT STRUCTURE---\n"
     ]
    }
   ],
   "source": [
    "srs_result = srs_generator_graph.invoke({\"messages\": [SystemMessage(content=srs_system_prompt)] + [HumanMessage(content=srs_initial_prompt)],\n",
    "                                         \"iterations\": 0})"
   ]
  },
  {
   "cell_type": "code",
   "execution_count": 26,
   "id": "9a261911-060d-4137-9b1e-dbf4c4686a19",
   "metadata": {},
   "outputs": [
    {
     "data": {
      "text/plain": [
       "{'messages': [SystemMessage(content='You are an experienced software architect. You help with softwer requirements specification (SRS) creation.\\nAn SRS is a document containing specifications for a piece of software. It covers the following areas:\\n- Problem background\\n- Stakeholders / Users\\n- Functional requirements\\n- Performance requirements\\n- Design constraints\\n- External interfaces\\n- Security requirements\\n- Uses cases for the application\\n- A glossary of terms\\n\\nA use case highlights the flow of the application to accomplish a particular purpose. It has the following format:\\n- Use case\\n    1. Actor\\n    2. Purpose\\n    3. Event flow\\n    4. Special or exceptional requirements', additional_kwargs={}, response_metadata={}),\n",
       "  HumanMessage(content='Please create an SRS for a Snake game with the following requirements:\\n- The game should be implemented in Python using the pygame module.\\n- The player controls a snake with the goal of eating apples randomly scattered around the game area without hitting the borders of the area or itself.\\n- If the player eats an apple, the snake grows in size by 1 unit.\\n- At any time, only 1 apple is present, if the player eats the apple, a new apple appears randomly, but it cannot appear on the snake.\\n- If the player hits itself or the border of the area, the game ends.\\n- The performance is measured by the number of consumed apples as a highscore.\\n- The game plays at a consistent speed that is not too fast.\\n- The game window has a resolution of 600x600.\\n- The game is initialized with a snake having a head and one bodypart and a randomly placed apple.\\n- The game starts when the player hits the space button.\\n- The player can control the snake with the arrow keys.\\n- The snake can go north, east, west, and south, but it cannot make 180 degree turns. For example, if the sanke goes north and wants to turn to south, it first has to turn either to west or east.\\n- The game window should provide options to start a new game and exit the application.\\n- The game area should be black, the head of the snake dark green, the body parts of the snake light green, and the apples red.\\nProvide as detailed an output as possible covering all aspects of the software.', additional_kwargs={}, response_metadata={}),\n",
       "  AIMessage(content=\"# Software Requirements Specification (SRS) for Snake Game\\n\\n## 1. Problem Background\\nThe Snake game is a classic arcade game where the player controls a snake to eat apples while avoiding collisions with the borders or itself. The objective is to grow the snake as long as possible by consuming apples, with the game ending upon collision. This SRS outlines the requirements for implementing the Snake game using Python and the pygame module.\\n\\n## 2. Stakeholders / Users\\n- **Players**: Individuals who will play the game.\\n- **Developers**: Programmers responsible for implementing the game.\\n- **Testers**: Individuals who will test the game for functionality and performance.\\n\\n## 3. Functional Requirements\\n- The game must be implemented in Python using the pygame module.\\n- The player controls a snake using the arrow keys.\\n- The snake can move in four directions: north, east, west, and south.\\n- The snake cannot make 180-degree turns.\\n- The game starts when the player presses the space button.\\n- The game window should have a resolution of 600x600 pixels.\\n- The game area should be black, the snake's head dark green, the body light green, and apples red.\\n- The game should initialize with a snake having a head and one body part and a randomly placed apple.\\n- Only one apple should be present at a time, and it should not appear on the snake.\\n- The snake grows by one unit each time it eats an apple.\\n- The game ends if the snake collides with itself or the border.\\n- The game window should provide options to start a new game and exit the application.\\n\\n## 4. Performance Requirements\\n- The game should run at a consistent speed that is not too fast, ensuring smooth gameplay.\\n- The performance is measured by the number of apples consumed, which is recorded as a high score.\\n\\n## 5. Design Constraints\\n- The game must be developed using Python and the pygame module.\\n- The game should maintain a consistent frame rate to ensure smooth movement of the snake.\\n\\n## 6. External Interfaces\\n- **User Interface**: The game window with a resolution of 600x600 pixels.\\n- **Input Devices**: Keyboard for controlling the snake (arrow keys) and starting the game (space button).\\n\\n## 7. Security Requirements\\n- The game should handle invalid inputs gracefully without crashing.\\n- The game should not allow any form of cheating or manipulation of the high score.\\n\\n## 8. Use Cases for the Application\\n\\n### Use Case 1: Start Game\\n1. **Actor**: Player\\n2. **Purpose**: To start a new game session.\\n3. **Event Flow**:\\n   - The player opens the game application.\\n   - The player presses the space button to start the game.\\n   - The game initializes with a snake and a randomly placed apple.\\n4. **Special or Exceptional Requirements**: None\\n\\n### Use Case 2: Control Snake\\n1. **Actor**: Player\\n2. **Purpose**: To control the movement of the snake.\\n3. **Event Flow**:\\n   - The player uses the arrow keys to change the direction of the snake.\\n   - The snake moves in the specified direction unless it is a 180-degree turn.\\n4. **Special or Exceptional Requirements**: The snake cannot make 180-degree turns.\\n\\n### Use Case 3: Eat Apple\\n1. **Actor**: Player\\n2. **Purpose**: To grow the snake by eating an apple.\\n3. **Event Flow**:\\n   - The snake moves over an apple.\\n   - The apple is consumed, and the snake grows by one unit.\\n   - A new apple appears randomly on the game area, not on the snake.\\n4. **Special or Exceptional Requirements**: None\\n\\n### Use Case 4: End Game\\n1. **Actor**: Player\\n2. **Purpose**: To handle the end of a game session.\\n3. **Event Flow**:\\n   - The snake collides with itself or the border.\\n   - The game ends, and the player's score is displayed.\\n4. **Special or Exceptional Requirements**: None\\n\\n### Use Case 5: Exit Game\\n1. **Actor**: Player\\n2. **Purpose**: To exit the game application.\\n3. **Event Flow**:\\n   - The player selects the exit option from the game window.\\n   - The game application closes.\\n4. **Special or Exceptional Requirements**: None\\n\\n## 9. Glossary of Terms\\n- **Snake**: The main character controlled by the player, consisting of a head and body parts.\\n- **Apple**: The item the snake consumes to grow in size.\\n- **Game Area**: The playable area within the game window.\\n- **High Score**: The maximum number of apples consumed in a single game session.\\n- **Pygame**: A set of Python modules designed for writing video games.\", additional_kwargs={'refusal': None}, response_metadata={'token_usage': {'completion_tokens': 1014, 'prompt_tokens': 468, 'total_tokens': 1482, 'completion_tokens_details': {'accepted_prediction_tokens': 0, 'audio_tokens': 0, 'reasoning_tokens': 0, 'rejected_prediction_tokens': 0}, 'prompt_tokens_details': {'audio_tokens': 0, 'cached_tokens': 0}}, 'model_name': 'gpt-4o-2024-08-06', 'system_fingerprint': 'fp_f9f4fb6dbf', 'finish_reason': 'stop', 'logprobs': None}, id='run-1b52fdbc-1a2c-4c3a-8b01-7ae47ae171c7-0', usage_metadata={'input_tokens': 468, 'output_tokens': 1014, 'total_tokens': 1482, 'input_token_details': {'audio': 0, 'cache_read': 0}, 'output_token_details': {'audio': 0, 'reasoning': 0}}),\n",
       "  HumanMessage(content='The created SRS was validated by another LLM. The SRS is validated by scoring 4 key traits:\\n    - Unambiguity: a requirement is unambiguous if and only if it has only one possible interpretation.\\n    - Understandability: a requirement is understandable if all classes of SRS readers can easily comprehend its meaning with a minimal explanation.\\n    - Correctness: a requirements is correct if it accurately represents a required feature or function the system must process.\\n    - Verifiability: a requirement is verifiable if finite, cost-effective methods exist for verifying that it is satisfied by the built system.\\n    The scores for each trait are between 1 and 5. The traits in this the order of above received the following scores: [4, 5, 5, 4]\\n    Taking into consideration the scores, please rework the SRS in order to receive the score 5 for each trait.', additional_kwargs={}, response_metadata={}),\n",
       "  AIMessage(content=\"To improve the SRS and achieve a score of 5 for each trait, we need to address potential ambiguities, enhance clarity, ensure correctness, and improve verifiability. Below is the revised SRS:\\n\\n# Software Requirements Specification (SRS) for Snake Game\\n\\n## 1. Problem Background\\nThe Snake game is a classic arcade game where the player controls a snake to eat apples while avoiding collisions with the borders or itself. The objective is to grow the snake as long as possible by consuming apples, with the game ending upon collision. This SRS outlines the requirements for implementing the Snake game using Python and the pygame module.\\n\\n## 2. Stakeholders / Users\\n- **Players**: Individuals who will play the game.\\n- **Developers**: Programmers responsible for implementing the game.\\n- **Testers**: Individuals who will test the game for functionality and performance.\\n\\n## 3. Functional Requirements\\n1. **Implementation**: The game must be implemented in Python using the pygame module.\\n2. **Control Mechanism**: The player controls the snake using the arrow keys on the keyboard.\\n3. **Movement Directions**: The snake can move in four directions: north (up), east (right), west (left), and south (down).\\n4. **Turn Restrictions**: The snake cannot make 180-degree turns. For example, if moving north, it cannot directly turn south.\\n5. **Game Start**: The game starts when the player presses the space button on the keyboard.\\n6. **Game Window**: The game window must have a resolution of 600x600 pixels.\\n7. **Visual Design**: \\n   - The game area should have a black background.\\n   - The snake's head should be dark green.\\n   - The snake's body should be light green.\\n   - Apples should be red.\\n8. **Initialization**: The game initializes with a snake consisting of a head and one body part, and a randomly placed apple.\\n9. **Apple Placement**: Only one apple should be present at a time, and it must not appear on the snake's body.\\n10. **Snake Growth**: The snake grows by one unit each time it eats an apple.\\n11. **Game Over Conditions**: The game ends if the snake collides with itself or the border of the game area.\\n12. **Game Options**: The game window should provide options to start a new game and exit the application.\\n\\n## 4. Performance Requirements\\n1. **Consistent Speed**: The game should run at a consistent speed of 10 frames per second to ensure smooth gameplay.\\n2. **High Score Tracking**: The performance is measured by the number of apples consumed, which is recorded as a high score.\\n\\n## 5. Design Constraints\\n1. **Technology**: The game must be developed using Python and the pygame module.\\n2. **Frame Rate**: The game should maintain a consistent frame rate of 10 frames per second to ensure smooth movement of the snake.\\n\\n## 6. External Interfaces\\n1. **User Interface**: The game window with a resolution of 600x600 pixels.\\n2. **Input Devices**: Keyboard for controlling the snake (arrow keys) and starting the game (space button).\\n\\n## 7. Security Requirements\\n1. **Input Handling**: The game should handle invalid inputs gracefully without crashing.\\n2. **Score Integrity**: The game should not allow any form of cheating or manipulation of the high score.\\n\\n## 8. Use Cases for the Application\\n\\n### Use Case 1: Start Game\\n1. **Actor**: Player\\n2. **Purpose**: To start a new game session.\\n3. **Event Flow**:\\n   - The player opens the game application.\\n   - The player presses the space button to start the game.\\n   - The game initializes with a snake and a randomly placed apple.\\n4. **Special or Exceptional Requirements**: None\\n\\n### Use Case 2: Control Snake\\n1. **Actor**: Player\\n2. **Purpose**: To control the movement of the snake.\\n3. **Event Flow**:\\n   - The player uses the arrow keys to change the direction of the snake.\\n   - The snake moves in the specified direction unless it is a 180-degree turn.\\n4. **Special or Exceptional Requirements**: The snake cannot make 180-degree turns.\\n\\n### Use Case 3: Eat Apple\\n1. **Actor**: Player\\n2. **Purpose**: To grow the snake by eating an apple.\\n3. **Event Flow**:\\n   - The snake moves over an apple.\\n   - The apple is consumed, and the snake grows by one unit.\\n   - A new apple appears randomly on the game area, not on the snake.\\n4. **Special or Exceptional Requirements**: None\\n\\n### Use Case 4: End Game\\n1. **Actor**: Player\\n2. **Purpose**: To handle the end of a game session.\\n3. **Event Flow**:\\n   - The snake collides with itself or the border.\\n   - The game ends, and the player's score is displayed.\\n4. **Special or Exceptional Requirements**: None\\n\\n### Use Case 5: Exit Game\\n1. **Actor**: Player\\n2. **Purpose**: To exit the game application.\\n3. **Event Flow**:\\n   - The player selects the exit option from the game window.\\n   - The game application closes.\\n4. **Special or Exceptional Requirements**: None\\n\\n## 9. Glossary of Terms\\n- **Snake**: The main character controlled by the player, consisting of a head and body parts.\\n- **Apple**: The item the snake consumes to grow in size.\\n- **Game Area**: The playable area within the game window.\\n- **High Score**: The maximum number of apples consumed in a single game session.\\n- **Pygame**: A set of Python modules designed for writing video games.\\n\\nBy clarifying the requirements and ensuring they are specific, measurable, and testable, this revised SRS aims to achieve a score of 5 for each trait.\", additional_kwargs={'refusal': None}, response_metadata={'token_usage': {'completion_tokens': 1260, 'prompt_tokens': 1677, 'total_tokens': 2937, 'completion_tokens_details': {'accepted_prediction_tokens': 0, 'audio_tokens': 0, 'reasoning_tokens': 0, 'rejected_prediction_tokens': 0}, 'prompt_tokens_details': {'audio_tokens': 0, 'cached_tokens': 1408}}, 'model_name': 'gpt-4o-2024-08-06', 'system_fingerprint': 'fp_f9f4fb6dbf', 'finish_reason': 'stop', 'logprobs': None}, id='run-afdb3490-415f-4988-b1d2-7b91575d6d3c-0', usage_metadata={'input_tokens': 1677, 'output_tokens': 1260, 'total_tokens': 2937, 'input_token_details': {'audio': 0, 'cache_read': 1408}, 'output_token_details': {'audio': 0, 'reasoning': 0}})],\n",
       " 'validations': SRS_Validation(validations=[5, 5, 5, 5]),\n",
       " 'srs': \"To improve the SRS and achieve a score of 5 for each trait, we need to address potential ambiguities, enhance clarity, ensure correctness, and improve verifiability. Below is the revised SRS:\\n\\n# Software Requirements Specification (SRS) for Snake Game\\n\\n## 1. Problem Background\\nThe Snake game is a classic arcade game where the player controls a snake to eat apples while avoiding collisions with the borders or itself. The objective is to grow the snake as long as possible by consuming apples, with the game ending upon collision. This SRS outlines the requirements for implementing the Snake game using Python and the pygame module.\\n\\n## 2. Stakeholders / Users\\n- **Players**: Individuals who will play the game.\\n- **Developers**: Programmers responsible for implementing the game.\\n- **Testers**: Individuals who will test the game for functionality and performance.\\n\\n## 3. Functional Requirements\\n1. **Implementation**: The game must be implemented in Python using the pygame module.\\n2. **Control Mechanism**: The player controls the snake using the arrow keys on the keyboard.\\n3. **Movement Directions**: The snake can move in four directions: north (up), east (right), west (left), and south (down).\\n4. **Turn Restrictions**: The snake cannot make 180-degree turns. For example, if moving north, it cannot directly turn south.\\n5. **Game Start**: The game starts when the player presses the space button on the keyboard.\\n6. **Game Window**: The game window must have a resolution of 600x600 pixels.\\n7. **Visual Design**: \\n   - The game area should have a black background.\\n   - The snake's head should be dark green.\\n   - The snake's body should be light green.\\n   - Apples should be red.\\n8. **Initialization**: The game initializes with a snake consisting of a head and one body part, and a randomly placed apple.\\n9. **Apple Placement**: Only one apple should be present at a time, and it must not appear on the snake's body.\\n10. **Snake Growth**: The snake grows by one unit each time it eats an apple.\\n11. **Game Over Conditions**: The game ends if the snake collides with itself or the border of the game area.\\n12. **Game Options**: The game window should provide options to start a new game and exit the application.\\n\\n## 4. Performance Requirements\\n1. **Consistent Speed**: The game should run at a consistent speed of 10 frames per second to ensure smooth gameplay.\\n2. **High Score Tracking**: The performance is measured by the number of apples consumed, which is recorded as a high score.\\n\\n## 5. Design Constraints\\n1. **Technology**: The game must be developed using Python and the pygame module.\\n2. **Frame Rate**: The game should maintain a consistent frame rate of 10 frames per second to ensure smooth movement of the snake.\\n\\n## 6. External Interfaces\\n1. **User Interface**: The game window with a resolution of 600x600 pixels.\\n2. **Input Devices**: Keyboard for controlling the snake (arrow keys) and starting the game (space button).\\n\\n## 7. Security Requirements\\n1. **Input Handling**: The game should handle invalid inputs gracefully without crashing.\\n2. **Score Integrity**: The game should not allow any form of cheating or manipulation of the high score.\\n\\n## 8. Use Cases for the Application\\n\\n### Use Case 1: Start Game\\n1. **Actor**: Player\\n2. **Purpose**: To start a new game session.\\n3. **Event Flow**:\\n   - The player opens the game application.\\n   - The player presses the space button to start the game.\\n   - The game initializes with a snake and a randomly placed apple.\\n4. **Special or Exceptional Requirements**: None\\n\\n### Use Case 2: Control Snake\\n1. **Actor**: Player\\n2. **Purpose**: To control the movement of the snake.\\n3. **Event Flow**:\\n   - The player uses the arrow keys to change the direction of the snake.\\n   - The snake moves in the specified direction unless it is a 180-degree turn.\\n4. **Special or Exceptional Requirements**: The snake cannot make 180-degree turns.\\n\\n### Use Case 3: Eat Apple\\n1. **Actor**: Player\\n2. **Purpose**: To grow the snake by eating an apple.\\n3. **Event Flow**:\\n   - The snake moves over an apple.\\n   - The apple is consumed, and the snake grows by one unit.\\n   - A new apple appears randomly on the game area, not on the snake.\\n4. **Special or Exceptional Requirements**: None\\n\\n### Use Case 4: End Game\\n1. **Actor**: Player\\n2. **Purpose**: To handle the end of a game session.\\n3. **Event Flow**:\\n   - The snake collides with itself or the border.\\n   - The game ends, and the player's score is displayed.\\n4. **Special or Exceptional Requirements**: None\\n\\n### Use Case 5: Exit Game\\n1. **Actor**: Player\\n2. **Purpose**: To exit the game application.\\n3. **Event Flow**:\\n   - The player selects the exit option from the game window.\\n   - The game application closes.\\n4. **Special or Exceptional Requirements**: None\\n\\n## 9. Glossary of Terms\\n- **Snake**: The main character controlled by the player, consisting of a head and body parts.\\n- **Apple**: The item the snake consumes to grow in size.\\n- **Game Area**: The playable area within the game window.\\n- **High Score**: The maximum number of apples consumed in a single game session.\\n- **Pygame**: A set of Python modules designed for writing video games.\\n\\nBy clarifying the requirements and ensuring they are specific, measurable, and testable, this revised SRS aims to achieve a score of 5 for each trait.\",\n",
       " 'dds': 'To implement the Snake game as described in the SRS, we will define several classes and functions. The primary classes will include `Game`, `Snake`, `Apple`, and `GameWindow`. Each class will have specific attributes and functions to fulfill the requirements outlined in the SRS. The `pygame` module will be imported to handle graphics and user input.\\n\\n```python\\n# Import necessary module\\nimport pygame\\nimport random\\nfrom typing import List, Tuple\\n\\n# Class Definitions\\n\\nclass Game:\\n    \"\"\"\\n    Represents the Snake game, managing the game loop, state, and interactions between game components.\\n    \"\"\"\\n    # Attributes\\n    window: \\'GameWindow\\'\\n    snake: \\'Snake\\'\\n    apple: \\'Apple\\'\\n    score: int\\n    high_score: int\\n    running: bool\\n\\n    # Functions\\n    def __init__(self, window: \\'GameWindow\\') -> None:\\n        \"\"\"\\n        Initializes the game with a game window, snake, apple, and score tracking.\\n        \"\"\"\\n        pass\\n\\n    def start_game(self) -> None:\\n        \"\"\"\\n        Starts the game loop, handling events, updates, and rendering.\\n        \"\"\"\\n        pass\\n\\n    def handle_input(self) -> None:\\n        \"\"\"\\n        Processes user input to control the snake and manage game state.\\n        \"\"\"\\n        pass\\n\\n    def update(self) -> None:\\n        \"\"\"\\n        Updates the game state, including snake movement and collision detection.\\n        \"\"\"\\n        pass\\n\\n    def render(self) -> None:\\n        \"\"\"\\n        Renders the game components on the screen.\\n        \"\"\"\\n        pass\\n\\n    def check_collisions(self) -> None:\\n        \"\"\"\\n        Checks for collisions with the snake itself or the game borders.\\n        \"\"\"\\n        pass\\n\\n    def end_game(self) -> None:\\n        \"\"\"\\n        Ends the game, displays the score, and updates the high score if necessary.\\n        \"\"\"\\n        pass\\n\\nclass Snake:\\n    \"\"\"\\n    Represents the snake in the game, including its position, direction, and growth behavior.\\n    \"\"\"\\n    # Attributes\\n    body: List[Tuple[int, int]]\\n    direction: Tuple[int, int]\\n    grow: bool\\n\\n    # Functions\\n    def __init__(self, initial_position: Tuple[int, int]) -> None:\\n        \"\"\"\\n        Initializes the snake with a starting position and initial direction.\\n        \"\"\"\\n        pass\\n\\n    def move(self) -> None:\\n        \"\"\"\\n        Moves the snake in the current direction, growing if necessary.\\n        \"\"\"\\n        pass\\n\\n    def change_direction(self, new_direction: Tuple[int, int]) -> None:\\n        \"\"\"\\n        Changes the snake\\'s direction, ensuring no 180-degree turns.\\n        \"\"\"\\n        pass\\n\\n    def grow_snake(self) -> None:\\n        \"\"\"\\n        Sets the snake to grow on the next move.\\n        \"\"\"\\n        pass\\n\\nclass Apple:\\n    \"\"\"\\n    Represents an apple in the game, which the snake can consume to grow.\\n    \"\"\"\\n    # Attributes\\n    position: Tuple[int, int]\\n\\n    # Functions\\n    def __init__(self, game_area_size: Tuple[int, int], snake_body: List[Tuple[int, int]]) -> None:\\n        \"\"\"\\n        Initializes the apple at a random position not occupied by the snake.\\n        \"\"\"\\n        pass\\n\\n    def relocate(self, game_area_size: Tuple[int, int], snake_body: List[Tuple[int, int]]) -> None:\\n        \"\"\"\\n        Relocates the apple to a new random position not occupied by the snake.\\n        \"\"\"\\n        pass\\n\\nclass GameWindow:\\n    \"\"\"\\n    Represents the game window, handling display settings and rendering.\\n    \"\"\"\\n    # Attributes\\n    width: int\\n    height: int\\n    background_color: Tuple[int, int, int]\\n\\n    # Functions\\n    def __init__(self, width: int = 600, height: int = 600) -> None:\\n        \"\"\"\\n        Initializes the game window with specified dimensions and background color.\\n        \"\"\"\\n        pass\\n\\n    def draw_snake(self, snake: \\'Snake\\') -> None:\\n        \"\"\"\\n        Draws the snake on the game window.\\n        \"\"\"\\n        pass\\n\\n    def draw_apple(self, apple: \\'Apple\\') -> None:\\n        \"\"\"\\n        Draws the apple on the game window.\\n        \"\"\"\\n        pass\\n\\n    def display_score(self, score: int, high_score: int) -> None:\\n        \"\"\"\\n        Displays the current score and high score on the game window.\\n        \"\"\"\\n        pass\\n\\n    def clear(self) -> None:\\n        \"\"\"\\n        Clears the game window for the next frame.\\n        \"\"\"\\n        pass\\n```\\n\\n### Description of Classes and Functions\\n\\n- **Game**: Manages the overall game logic, including the game loop, input handling, updates, rendering, and collision detection.\\n  - `__init__`: Initializes the game with a window, snake, apple, and score tracking.\\n  - `start_game`: Starts the game loop.\\n  - `handle_input`: Processes user input.\\n  - `update`: Updates the game state.\\n  - `render`: Renders game components.\\n  - `check_collisions`: Checks for collisions.\\n  - `end_game`: Ends the game and updates the high score.\\n\\n- **Snake**: Represents the snake, including its position, direction, and growth behavior.\\n  - `__init__`: Initializes the snake with a starting position.\\n  - `move`: Moves the snake.\\n  - `change_direction`: Changes the snake\\'s direction.\\n  - `grow_snake`: Sets the snake to grow.\\n\\n- **Apple**: Represents an apple, which the snake can consume to grow.\\n  - `__init__`: Initializes the apple at a random position.\\n  - `relocate`: Relocates the apple to a new position.\\n\\n- **GameWindow**: Manages the game window, including display settings and rendering.\\n  - `__init__`: Initializes the game window.\\n  - `draw_snake`: Draws the snake.\\n  - `draw_apple`: Draws the apple.\\n  - `display_score`: Displays the score.\\n  - `clear`: Clears the window for the next frame.\\n\\nThis structure provides a clear and organized approach to implementing the Snake game, ensuring that each component is responsible for specific aspects of the game logic and rendering.',\n",
       " 'structure': 'Based on the provided SRS and DDS, here\\'s a suitable project structure for the Snake game in Python, along with a step-by-step guide to set it up:\\n\\n### Project Structure\\n\\n```\\n/snake_game\\n    /snake\\n        __init__.py\\n        game.py\\n        snake.py\\n        apple.py\\n        game_window.py\\n    /tests\\n        test_game.py\\n        test_snake.py\\n        test_apple.py\\n        test_game_window.py\\n    .gitignore\\n    requirements.txt\\n    README.md\\n    setup.py\\n```\\n\\n### Description of Files and Folders\\n\\n- **/snake**: Contains the main modules of the game.\\n  - `__init__.py`: Makes the folder a package.\\n  - `game.py`: Contains the `Game` class and game logic.\\n  - `snake.py`: Contains the `Snake` class and its behavior.\\n  - `apple.py`: Contains the `Apple` class and its behavior.\\n  - `game_window.py`: Contains the `GameWindow` class for rendering.\\n\\n- **/tests**: Contains test files for each module.\\n  - `test_game.py`: Tests for the `Game` class.\\n  - `test_snake.py`: Tests for the `Snake` class.\\n  - `test_apple.py`: Tests for the `Apple` class.\\n  - `test_game_window.py`: Tests for the `GameWindow` class.\\n\\n- **.gitignore**: Specifies files and directories to be ignored by Git (e.g., `__pycache__`, `.venv`).\\n\\n- **requirements.txt**: Lists the Python dependencies (e.g., `pygame`).\\n\\n- **README.md**: Provides an overview of the project, setup instructions, and usage.\\n\\n- **setup.py**: Script for packaging and installing the project.\\n\\n### Step-by-Step Setup Guide\\n\\n1. **Create the Project Directory**:\\n   - Open a terminal and navigate to the desired location for your project.\\n   - Create the main project directory:\\n     ```bash\\n     mkdir snake_game\\n     cd snake_game\\n     ```\\n\\n2. **Create Subdirectories and Files**:\\n   - Create the necessary directories and files:\\n     ```bash\\n     mkdir snake tests\\n     touch snake/__init__.py snake/game.py snake/snake.py snake/apple.py snake/game_window.py\\n     touch tests/test_game.py tests/test_snake.py tests/test_apple.py tests/test_game_window.py\\n     touch .gitignore requirements.txt README.md setup.py\\n     ```\\n\\n3. **Initialize a Git Repository**:\\n   - Initialize a Git repository in the project directory:\\n     ```bash\\n     git init\\n     ```\\n\\n4. **Set Up a Python Virtual Environment**:\\n   - **Linux**:\\n     ```bash\\n     python3 -m venv .venv\\n     source .venv/bin/activate\\n     ```\\n   - **Windows**:\\n     ```cmd\\n     python -m venv .venv\\n     .venv\\\\Scripts\\\\activate\\n     ```\\n\\n5. **Install Dependencies**:\\n   - Add `pygame` to `requirements.txt`:\\n     ```\\n     pygame\\n     ```\\n   - Install dependencies:\\n     ```bash\\n     pip install -r requirements.txt\\n     ```\\n\\n6. **Configure .gitignore**:\\n   - Add the following to `.gitignore`:\\n     ```\\n     __pycache__/\\n     .venv/\\n     *.pyc\\n     ```\\n\\n7. **Write Code and Tests**:\\n   - Implement the classes and functions in their respective files as per the DDS.\\n   - Write unit tests in the `/tests` directory to ensure functionality.\\n\\n8. **Run Tests**:\\n   - Use a testing framework like `pytest` to run your tests:\\n     ```bash\\n     pip install pytest\\n     pytest tests/\\n     ```\\n\\n9. **Document the Project**:\\n   - Fill in `README.md` with project details, setup instructions, and usage examples.\\n\\n10. **Commit and Push to Git Repository**:\\n    - Add, commit, and push your changes to a remote Git repository:\\n      ```bash\\n      git add .\\n      git commit -m \"Initial commit\"\\n      git remote add origin <your-repo-url>\\n      git push -u origin main\\n      ```\\n\\nThis setup provides a clean and organized structure for developing, testing, and maintaining the Snake game project.',\n",
       " 'iterations': 2}"
      ]
     },
     "execution_count": 26,
     "metadata": {},
     "output_type": "execute_result"
    }
   ],
   "source": [
    "srs_result"
   ]
  },
  {
   "cell_type": "code",
   "execution_count": null,
   "id": "e2b16bf6-f2d6-42f8-b6ef-8bcfacd4ca9b",
   "metadata": {},
   "outputs": [],
   "source": []
  }
 ],
 "metadata": {
  "kernelspec": {
   "display_name": "Python 3 (ipykernel)",
   "language": "python",
   "name": "python3"
  },
  "language_info": {
   "codemirror_mode": {
    "name": "ipython",
    "version": 3
   },
   "file_extension": ".py",
   "mimetype": "text/x-python",
   "name": "python",
   "nbconvert_exporter": "python",
   "pygments_lexer": "ipython3",
   "version": "3.13.1"
  }
 },
 "nbformat": 4,
 "nbformat_minor": 5
}
